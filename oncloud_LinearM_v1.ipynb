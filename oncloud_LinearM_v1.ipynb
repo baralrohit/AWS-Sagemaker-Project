{
 "cells": [
  {
   "cell_type": "markdown",
   "metadata": {},
   "source": [
    "## Linear Model (csv_v1)"
   ]
  },
  {
   "cell_type": "code",
   "execution_count": 1,
   "metadata": {
    "tags": []
   },
   "outputs": [
    {
     "name": "stdout",
     "output_type": "stream",
     "text": [
      "sagemaker.config INFO - Not applying SDK defaults from location: /etc/xdg/sagemaker/config.yaml\n",
      "sagemaker.config INFO - Not applying SDK defaults from location: /home/ec2-user/.config/sagemaker/config.yaml\n"
     ]
    }
   ],
   "source": [
    "#importing the required libraries libraries\n",
    "import warnings, requests, zipfile, io\n",
    "\n",
    "warnings.simplefilter(\"ignore\")\n",
    "import pandas as pd\n",
    "from scipy.io import arff\n",
    "\n",
    "import os\n",
    "import boto3\n",
    "import sagemaker\n",
    "from sagemaker.image_uris import retrieve\n",
    "from sklearn.model_selection import train_test_split\n",
    "import numpy as np\n",
    "import sagemaker.amazon.common as smac\n",
    "from sagemaker.image_uris import retrieve\n",
    "import pandas as pd\n",
    "import matplotlib.pyplot as plt\n",
    "from sklearn.metrics import confusion_matrix, ConfusionMatrixDisplay\n",
    "from sklearn.metrics import classification_report"
   ]
  },
  {
   "cell_type": "code",
   "execution_count": 2,
   "metadata": {
    "tags": []
   },
   "outputs": [],
   "source": [
    "import logging\n",
    "\n",
    "# importing boto3\n",
    "from botocore.exceptions import ClientError\n",
    "\n",
    "def initialize_s3_container(storage_name, locality=None):\n",
    "    try:\n",
    "        # if no locality is provided, use default aws region and create s3 client\n",
    "        if locality is None:\n",
    "            s3_service = boto3.client(\"s3\")\n",
    "            s3_service.create_bucket(Bucket=storage_name)\n",
    "        else:\n",
    "            s3_service = boto3.client(\"s3\", region_name=locality)\n",
    "            config_location = {\"LocationConstraint\": locality}\n",
    "            s3_service.create_bucket(\n",
    "                Bucket=storage_name, CreateBucketConfiguration=config_location\n",
    "            )\n",
    "\n",
    "    except ClientError as error_log:\n",
    "        logging.error(error_log)\n",
    "        return False\n",
    "    #printing the message after successful creation\n",
    "    print(f\"S3 Bucket: {storage_name} has been successfully created.\")\n",
    "    return True"
   ]
  },
  {
   "cell_type": "markdown",
   "metadata": {},
   "source": [
    "## Bucket Verification"
   ]
  },
  {
   "cell_type": "code",
   "execution_count": 3,
   "metadata": {
    "tags": []
   },
   "outputs": [],
   "source": [
    "#function to check if the bucket exists\n",
    "def bucket_check(bucket_name):\n",
    "    s3 = boto3.client(\"s3\")\n",
    "    try:\n",
    "        #checking if the bucket exists using head_bucket\n",
    "        s3.head_bucket(Bucket=bucket_name)\n",
    "        print(f\"Bucket '{bucket_name}' already exists.\")\n",
    "        return True\n",
    "    except ClientError as e:\n",
    "        #handling the 404 error if the bucket does not exist\n",
    "        if e.response[\"Error\"][\"Code\"] == \"404\":\n",
    "            print(f\"Bucket '{bucket_name}' does not exist.\")\n",
    "            return False\n",
    "        else:\n",
    "            #raising any other error if it occurs\n",
    "            raise"
   ]
  },
  {
   "cell_type": "markdown",
   "metadata": {},
   "source": [
    "## Bucket setup"
   ]
  },
  {
   "cell_type": "code",
   "execution_count": 4,
   "metadata": {
    "tags": []
   },
   "outputs": [
    {
     "name": "stdout",
     "output_type": "stream",
     "text": [
      "Bucket 'u3268792-dsts-rohit-bucket-1' does not exist.\n",
      "S3 Bucket: u3268792-dsts-rohit-bucket-1 has been successfully created.\n"
     ]
    }
   ],
   "source": [
    "## setting the s3 bucket name, fetching the s3 resource, checking if the bucket exists, and creating it if not\n",
    "bucket_dsts = \"u3268792-dsts-rohit-bucket-1\"\n",
    "s3_instance = boto3.Session().resource(\"s3\")\n",
    "container_exists = bucket_check(bucket_dsts)\n",
    "if not container_exists:\n",
    "    initialize_s3_container(bucket_dsts)"
   ]
  },
  {
   "cell_type": "code",
   "execution_count": 5,
   "metadata": {
    "tags": []
   },
   "outputs": [],
   "source": [
    "# setting the prefix and defining a function to upload a csv file to aws s3\n",
    "\n",
    "prefix = \"oncloud\"\n",
    "\n",
    "def upload_csv(filename, folder, dataframe):\n",
    "    csv_buffer = io.StringIO()\n",
    "    dataframe.to_csv(csv_buffer, header=False, index=False)\n",
    "    print(s3_instance.Bucket(bucket_dsts))\n",
    "    s3_instance.Bucket(bucket_dsts).Object(os.path.join(prefix, folder, filename)).put(\n",
    "        Body=csv_buffer.getvalue()\n",
    "    )"
   ]
  },
  {
   "cell_type": "markdown",
   "metadata": {},
   "source": [
    "### Reading the data"
   ]
  },
  {
   "cell_type": "code",
   "execution_count": 6,
   "metadata": {
    "tags": []
   },
   "outputs": [
    {
     "name": "stdout",
     "output_type": "stream",
     "text": [
      "   target  Distance  Quarter_2  Quarter_3  Quarter_4  Month_2  Month_3  \\\n",
      "0     0.0     689.0      False      False      False    False    False   \n",
      "1     0.0     731.0      False      False      False    False    False   \n",
      "2     0.0    1199.0      False      False      False    False    False   \n",
      "3     0.0    1587.0      False      False      False    False    False   \n",
      "4     0.0    1587.0      False      False      False    False    False   \n",
      "\n",
      "   Month_4  Month_5  Month_6  ...  Dest_DEN  Dest_DFW  Dest_IAH  Dest_LAX  \\\n",
      "0    False    False    False  ...     False     False      True     False   \n",
      "1    False    False    False  ...     False     False     False     False   \n",
      "2    False    False    False  ...      True     False     False     False   \n",
      "3    False    False    False  ...     False     False     False     False   \n",
      "4    False    False    False  ...     False     False     False     False   \n",
      "\n",
      "   Dest_ORD  Dest_PHX  Dest_SFO  DepHourofDay_Morning  DepHourofDay_Afternoon  \\\n",
      "0     False     False     False                 False                   False   \n",
      "1     False     False     False                  True                   False   \n",
      "2     False     False     False                 False                   False   \n",
      "3     False      True     False                 False                    True   \n",
      "4     False     False     False                  True                   False   \n",
      "\n",
      "   DepHourofDay_Evening  \n",
      "0                  True  \n",
      "1                 False  \n",
      "2                  True  \n",
      "3                 False  \n",
      "4                 False  \n",
      "\n",
      "[5 rows x 75 columns]\n",
      "(1635590, 75)\n"
     ]
    }
   ],
   "source": [
    "#loading the data\n",
    "df_v1 = pd.read_csv(\"./combined_csv_v1.csv\")\n",
    "\n",
    "print(df_v1.head())\n",
    "print(df_v1.shape)"
   ]
  },
  {
   "cell_type": "code",
   "execution_count": 7,
   "metadata": {
    "tags": []
   },
   "outputs": [],
   "source": [
    "#creating the copy of the original data\n",
    "df=df_v1.copy()"
   ]
  },
  {
   "cell_type": "code",
   "execution_count": 8,
   "metadata": {
    "tags": []
   },
   "outputs": [],
   "source": [
    "#converting all boolean values to 1 and 0\n",
    "df = df.replace({True: 1, False: 0})"
   ]
  },
  {
   "cell_type": "code",
   "execution_count": 9,
   "metadata": {
    "tags": []
   },
   "outputs": [
    {
     "data": {
      "text/html": [
       "<div>\n",
       "<style scoped>\n",
       "    .dataframe tbody tr th:only-of-type {\n",
       "        vertical-align: middle;\n",
       "    }\n",
       "\n",
       "    .dataframe tbody tr th {\n",
       "        vertical-align: top;\n",
       "    }\n",
       "\n",
       "    .dataframe thead th {\n",
       "        text-align: right;\n",
       "    }\n",
       "</style>\n",
       "<table border=\"1\" class=\"dataframe\">\n",
       "  <thead>\n",
       "    <tr style=\"text-align: right;\">\n",
       "      <th></th>\n",
       "      <th>target</th>\n",
       "      <th>Distance</th>\n",
       "      <th>Quarter_2</th>\n",
       "      <th>Quarter_3</th>\n",
       "      <th>Quarter_4</th>\n",
       "      <th>Month_2</th>\n",
       "      <th>Month_3</th>\n",
       "      <th>Month_4</th>\n",
       "      <th>Month_5</th>\n",
       "      <th>Month_6</th>\n",
       "      <th>...</th>\n",
       "      <th>Dest_DEN</th>\n",
       "      <th>Dest_DFW</th>\n",
       "      <th>Dest_IAH</th>\n",
       "      <th>Dest_LAX</th>\n",
       "      <th>Dest_ORD</th>\n",
       "      <th>Dest_PHX</th>\n",
       "      <th>Dest_SFO</th>\n",
       "      <th>DepHourofDay_Morning</th>\n",
       "      <th>DepHourofDay_Afternoon</th>\n",
       "      <th>DepHourofDay_Evening</th>\n",
       "    </tr>\n",
       "  </thead>\n",
       "  <tbody>\n",
       "    <tr>\n",
       "      <th>0</th>\n",
       "      <td>0.0</td>\n",
       "      <td>689.0</td>\n",
       "      <td>0</td>\n",
       "      <td>0</td>\n",
       "      <td>0</td>\n",
       "      <td>0</td>\n",
       "      <td>0</td>\n",
       "      <td>0</td>\n",
       "      <td>0</td>\n",
       "      <td>0</td>\n",
       "      <td>...</td>\n",
       "      <td>0</td>\n",
       "      <td>0</td>\n",
       "      <td>1</td>\n",
       "      <td>0</td>\n",
       "      <td>0</td>\n",
       "      <td>0</td>\n",
       "      <td>0</td>\n",
       "      <td>0</td>\n",
       "      <td>0</td>\n",
       "      <td>1</td>\n",
       "    </tr>\n",
       "    <tr>\n",
       "      <th>1</th>\n",
       "      <td>0.0</td>\n",
       "      <td>731.0</td>\n",
       "      <td>0</td>\n",
       "      <td>0</td>\n",
       "      <td>0</td>\n",
       "      <td>0</td>\n",
       "      <td>0</td>\n",
       "      <td>0</td>\n",
       "      <td>0</td>\n",
       "      <td>0</td>\n",
       "      <td>...</td>\n",
       "      <td>0</td>\n",
       "      <td>0</td>\n",
       "      <td>0</td>\n",
       "      <td>0</td>\n",
       "      <td>0</td>\n",
       "      <td>0</td>\n",
       "      <td>0</td>\n",
       "      <td>1</td>\n",
       "      <td>0</td>\n",
       "      <td>0</td>\n",
       "    </tr>\n",
       "    <tr>\n",
       "      <th>2</th>\n",
       "      <td>0.0</td>\n",
       "      <td>1199.0</td>\n",
       "      <td>0</td>\n",
       "      <td>0</td>\n",
       "      <td>0</td>\n",
       "      <td>0</td>\n",
       "      <td>0</td>\n",
       "      <td>0</td>\n",
       "      <td>0</td>\n",
       "      <td>0</td>\n",
       "      <td>...</td>\n",
       "      <td>1</td>\n",
       "      <td>0</td>\n",
       "      <td>0</td>\n",
       "      <td>0</td>\n",
       "      <td>0</td>\n",
       "      <td>0</td>\n",
       "      <td>0</td>\n",
       "      <td>0</td>\n",
       "      <td>0</td>\n",
       "      <td>1</td>\n",
       "    </tr>\n",
       "    <tr>\n",
       "      <th>3</th>\n",
       "      <td>0.0</td>\n",
       "      <td>1587.0</td>\n",
       "      <td>0</td>\n",
       "      <td>0</td>\n",
       "      <td>0</td>\n",
       "      <td>0</td>\n",
       "      <td>0</td>\n",
       "      <td>0</td>\n",
       "      <td>0</td>\n",
       "      <td>0</td>\n",
       "      <td>...</td>\n",
       "      <td>0</td>\n",
       "      <td>0</td>\n",
       "      <td>0</td>\n",
       "      <td>0</td>\n",
       "      <td>0</td>\n",
       "      <td>1</td>\n",
       "      <td>0</td>\n",
       "      <td>0</td>\n",
       "      <td>1</td>\n",
       "      <td>0</td>\n",
       "    </tr>\n",
       "    <tr>\n",
       "      <th>4</th>\n",
       "      <td>0.0</td>\n",
       "      <td>1587.0</td>\n",
       "      <td>0</td>\n",
       "      <td>0</td>\n",
       "      <td>0</td>\n",
       "      <td>0</td>\n",
       "      <td>0</td>\n",
       "      <td>0</td>\n",
       "      <td>0</td>\n",
       "      <td>0</td>\n",
       "      <td>...</td>\n",
       "      <td>0</td>\n",
       "      <td>0</td>\n",
       "      <td>0</td>\n",
       "      <td>0</td>\n",
       "      <td>0</td>\n",
       "      <td>0</td>\n",
       "      <td>0</td>\n",
       "      <td>1</td>\n",
       "      <td>0</td>\n",
       "      <td>0</td>\n",
       "    </tr>\n",
       "  </tbody>\n",
       "</table>\n",
       "<p>5 rows × 75 columns</p>\n",
       "</div>"
      ],
      "text/plain": [
       "   target  Distance  Quarter_2  Quarter_3  Quarter_4  Month_2  Month_3  \\\n",
       "0     0.0     689.0          0          0          0        0        0   \n",
       "1     0.0     731.0          0          0          0        0        0   \n",
       "2     0.0    1199.0          0          0          0        0        0   \n",
       "3     0.0    1587.0          0          0          0        0        0   \n",
       "4     0.0    1587.0          0          0          0        0        0   \n",
       "\n",
       "   Month_4  Month_5  Month_6  ...  Dest_DEN  Dest_DFW  Dest_IAH  Dest_LAX  \\\n",
       "0        0        0        0  ...         0         0         1         0   \n",
       "1        0        0        0  ...         0         0         0         0   \n",
       "2        0        0        0  ...         1         0         0         0   \n",
       "3        0        0        0  ...         0         0         0         0   \n",
       "4        0        0        0  ...         0         0         0         0   \n",
       "\n",
       "   Dest_ORD  Dest_PHX  Dest_SFO  DepHourofDay_Morning  DepHourofDay_Afternoon  \\\n",
       "0         0         0         0                     0                       0   \n",
       "1         0         0         0                     1                       0   \n",
       "2         0         0         0                     0                       0   \n",
       "3         0         1         0                     0                       1   \n",
       "4         0         0         0                     1                       0   \n",
       "\n",
       "   DepHourofDay_Evening  \n",
       "0                     1  \n",
       "1                     0  \n",
       "2                     1  \n",
       "3                     0  \n",
       "4                     0  \n",
       "\n",
       "[5 rows x 75 columns]"
      ]
     },
     "execution_count": 9,
     "metadata": {},
     "output_type": "execute_result"
    }
   ],
   "source": [
    "df.head()"
   ]
  },
  {
   "cell_type": "code",
   "execution_count": 10,
   "metadata": {
    "tags": []
   },
   "outputs": [
    {
     "data": {
      "text/plain": [
       "target                    0\n",
       "Distance                  0\n",
       "Quarter_2                 0\n",
       "Quarter_3                 0\n",
       "Quarter_4                 0\n",
       "                         ..\n",
       "Dest_PHX                  0\n",
       "Dest_SFO                  0\n",
       "DepHourofDay_Morning      0\n",
       "DepHourofDay_Afternoon    0\n",
       "DepHourofDay_Evening      0\n",
       "Length: 75, dtype: int64"
      ]
     },
     "execution_count": 10,
     "metadata": {},
     "output_type": "execute_result"
    }
   ],
   "source": [
    "#checking the null values\n",
    "df.isnull().sum()"
   ]
  },
  {
   "cell_type": "markdown",
   "metadata": {},
   "source": [
    "### Split the dataset"
   ]
  },
  {
   "cell_type": "code",
   "execution_count": 11,
   "metadata": {
    "tags": []
   },
   "outputs": [],
   "source": [
    "#spliting the dataset into train, test and validation (70,15,15)\n",
    "train, test_and_validate = train_test_split(\n",
    "    df, test_size=0.3, random_state=42, stratify=df[\"target\"]\n",
    ")\n",
    "test, validate = train_test_split(\n",
    "    test_and_validate,\n",
    "    test_size=0.5,\n",
    "    random_state=42,\n",
    "    stratify=test_and_validate[\"target\"],\n",
    ")"
   ]
  },
  {
   "cell_type": "code",
   "execution_count": 12,
   "metadata": {
    "tags": []
   },
   "outputs": [
    {
     "name": "stdout",
     "output_type": "stream",
     "text": [
      "(1144913, 75)\n",
      "(245338, 75)\n",
      "(245339, 75)\n"
     ]
    }
   ],
   "source": [
    "#printing the shape\n",
    "print(train.shape)\n",
    "print(test.shape)\n",
    "print(validate.shape)"
   ]
  },
  {
   "cell_type": "code",
   "execution_count": 13,
   "metadata": {
    "tags": []
   },
   "outputs": [],
   "source": [
    "#changing the names for the files to upload to the bucket\n",
    "train_file = \"data_v1_train.csv\"\n",
    "test_file = \"data_v1_test.csv\"\n",
    "validate_file = \"data_v1_validate.csv\""
   ]
  },
  {
   "cell_type": "code",
   "execution_count": 14,
   "metadata": {
    "tags": []
   },
   "outputs": [
    {
     "name": "stdout",
     "output_type": "stream",
     "text": [
      "s3.Bucket(name='u3268792-dsts-rohit-bucket-1')\n",
      "s3.Bucket(name='u3268792-dsts-rohit-bucket-1')\n",
      "s3.Bucket(name='u3268792-dsts-rohit-bucket-1')\n"
     ]
    }
   ],
   "source": [
    "#uploading each dataset subset to the specified S3 locations\n",
    "upload_csv(train_file, \"train\", train)\n",
    "upload_csv(test_file, \"test\", test)\n",
    "upload_csv(validate_file, \"validate\", validate)"
   ]
  },
  {
   "cell_type": "code",
   "execution_count": 15,
   "metadata": {
    "tags": []
   },
   "outputs": [],
   "source": [
    "# this function prepares data from a dataframe for training in amazon sagemaker\n",
    "# it converts features and labels into numpy arrays of type float32\n",
    "# writes the data into an in-memory buffer (named as buffer) as dense tensors\n",
    "# and returns the buffer for use in the sagemaker training process\n",
    "\n",
    "def prepare_data(df):\n",
    "    vectors = df.drop(columns=[\"target\"]).values.astype(\"float32\")\n",
    "    labels = df[\"target\"].values.astype(\"float32\")\n",
    "    buffer = io.BytesIO()\n",
    "    smac.write_numpy_to_dense_tensor(buffer, vectors, labels)\n",
    "    buffer.seek(0)\n",
    "\n",
    "    return buffer"
   ]
  },
  {
   "cell_type": "code",
   "execution_count": 16,
   "metadata": {
    "tags": []
   },
   "outputs": [],
   "source": [
    "# this function uploads the training data from an in-memory buffer to s3\n",
    "# it saves the data under a specified bucket and prefix in a recordio protobuf format\n",
    "# constructs the s3 data path, prints the upload confirmation, and returns the s3 path\n",
    "\n",
    "def upload_buffer(buffer, bucket_dsts, prefix, type):\n",
    "    key = \"recordio-pb-data\"\n",
    "    boto3.resource(\"s3\").Bucket(bucket_dsts).Object(\n",
    "        os.path.join(prefix, type, key)\n",
    "    ).upload_fileobj(buffer)\n",
    "    s3_data_path = \"s3://{}/{}/{}/{}\".format(bucket_dsts, prefix, type, key)\n",
    "    print(\"uploaded {} data to location: {}\".format(type, s3_data_path))\n",
    "    return s3_data_path"
   ]
  },
  {
   "cell_type": "code",
   "execution_count": 17,
   "metadata": {
    "tags": []
   },
   "outputs": [
    {
     "name": "stdout",
     "output_type": "stream",
     "text": [
      "uploaded train data to location: s3://u3268792-dsts-rohit-bucket-1/oncloud/train/recordio-pb-data\n"
     ]
    }
   ],
   "source": [
    "#calling the function to prepare the data\n",
    "train_buf = prepare_data(train)\n",
    "\n",
    "#uploading train data\n",
    "s3_train_data = upload_buffer(train_buf, bucket_dsts, prefix, \"train\")"
   ]
  },
  {
   "cell_type": "code",
   "execution_count": 18,
   "metadata": {
    "tags": []
   },
   "outputs": [
    {
     "name": "stdout",
     "output_type": "stream",
     "text": [
      "uploaded validate data to location: s3://u3268792-dsts-rohit-bucket-1/oncloud/validate/recordio-pb-data\n"
     ]
    }
   ],
   "source": [
    "#we will perform same thing for validaton dataset\n",
    "validate_buffer = prepare_data(validate)\n",
    "\n",
    "\n",
    "s3_validate_data = upload_buffer(validate_buffer, bucket_dsts, prefix, \"validate\")"
   ]
  },
  {
   "cell_type": "code",
   "execution_count": 19,
   "metadata": {
    "tags": []
   },
   "outputs": [
    {
     "name": "stdout",
     "output_type": "stream",
     "text": [
      "training artifacts will be uploaded to: s3://u3268792-dsts-rohit-bucket-1/oncloud/output\n"
     ]
    }
   ],
   "source": [
    "#setting the s3 path for storing training artifacts and printing the location\n",
    "output_location = \"s3://{}/{}/output\".format(bucket_dsts, prefix)\n",
    "print(\"training artifacts will be uploaded to: {}\".format(output_location))"
   ]
  },
  {
   "cell_type": "code",
   "execution_count": 20,
   "metadata": {
    "tags": []
   },
   "outputs": [],
   "source": [
    "#retrieving the amazon sagemaker container for the 'linear-learner' in the 'us-east-1' region\n",
    "container = retrieve(\"linear-learner\", \"us-east-1\")"
   ]
  },
  {
   "cell_type": "markdown",
   "metadata": {},
   "source": [
    "### Model training"
   ]
  },
  {
   "cell_type": "code",
   "execution_count": 21,
   "metadata": {
    "tags": []
   },
   "outputs": [
    {
     "name": "stderr",
     "output_type": "stream",
     "text": [
      "train_instance_count has been renamed in sagemaker>=2.\n",
      "See: https://sagemaker.readthedocs.io/en/stable/v2.html for details.\n",
      "train_instance_type has been renamed in sagemaker>=2.\n",
      "See: https://sagemaker.readthedocs.io/en/stable/v2.html for details.\n",
      "INFO:sagemaker:Creating training-job with name: linear-learner-2024-11-04-06-42-13-154\n"
     ]
    },
    {
     "name": "stdout",
     "output_type": "stream",
     "text": [
      "\n",
      "2024-11-04 06:42:14 Starting - Starting the training job..\n",
      "2024-11-04 06:42:29 Starting - Preparing the instances for training...\n",
      "2024-11-04 06:42:53 Downloading - Downloading input data....\n",
      "2024-11-04 06:43:18 Downloading - Downloading the training image..............\n",
      "2024-11-04 06:44:34 Training - Training image download completed. Training in progress.........................................................................\n",
      "2024-11-04 06:50:41 Uploading - Uploading generated training model..\n",
      "2024-11-04 06:50:56 Completed - Training job completed\n"
     ]
    }
   ],
   "source": [
    "#creating a sagemaker session using the boto3 session with the 'us-east-1' region\n",
    "session = sagemaker.Session(boto3.session.Session(region_name=\"us-east-1\"))\n",
    "\n",
    "#getting the sagemaker execution role for permissions\n",
    "role = sagemaker.get_execution_role()\n",
    "\n",
    "#setting up the sagemaker estimator for the 'linear-learner' algorithm\n",
    "linear_model = sagemaker.estimator.Estimator(\n",
    "    container,\n",
    "    role,\n",
    "    train_instance_count=1,\n",
    "    train_instance_type=\"ml.c5.2xlarge\",\n",
    "    output_path=output_location,\n",
    "    sagemaker_session=session,\n",
    ")\n",
    "\n",
    "#configuring hyperparameters for the estimator\n",
    "linear_model.set_hyperparameters(feature_dim=74, predictor_type=\"binary_classifier\")\n",
    "\n",
    "#fitting the model with training and validation data from s3, disabling logs\n",
    "linear_model.fit({\"train\": s3_train_data, \"validation\": s3_validate_data}, logs=False)"
   ]
  },
  {
   "cell_type": "code",
   "execution_count": 25,
   "metadata": {
    "tags": []
   },
   "outputs": [
    {
     "name": "stdout",
     "output_type": "stream",
     "text": [
      "s3.Bucket(name='u3268792-dsts-rohit-bucket-1')\n"
     ]
    }
   ],
   "source": [
    "#preparing the input data for batch prediction by extracting all columns except the first one from the test set which is our target variable\n",
    "batch_input_data = test.iloc[:, 1:]\n",
    "batch_input_filename = \"batch-in-linear.csv\"\n",
    "\n",
    "#uploading the prepared csv file to s3\n",
    "upload_csv(batch_input_filename, \"batch-in-linear\", batch_input_data)\n",
    "\n",
    "#defining the s3 paths for the batch prediction input and output\n",
    "batch_output = \"s3://{}/{}/batch-out-linear/\".format(bucket_dsts, prefix)\n",
    "batch_input = \"s3://{}/{}/batch-in-linear/{}\".format(bucket_dsts, prefix, batch_input_filename)"
   ]
  },
  {
   "cell_type": "code",
   "execution_count": 26,
   "metadata": {
    "tags": []
   },
   "outputs": [
    {
     "name": "stderr",
     "output_type": "stream",
     "text": [
      "INFO:sagemaker:Creating model with name: linear-learner-2024-11-04-07-02-31-391\n",
      "INFO:sagemaker:Creating transform job with name: linear-learner-2024-11-04-07-02-32-073\n"
     ]
    },
    {
     "name": "stdout",
     "output_type": "stream",
     "text": [
      ".................................................................................!\n",
      "\u001b[34mDocker entrypoint called with argument(s): serve\u001b[0m\n",
      "\u001b[34mRunning default environment configuration script\u001b[0m\n",
      "\u001b[34m[11/04/2024 07:09:14 INFO 140486953903936] Memory profiler is not enabled by the environment variable ENABLE_PROFILER.\u001b[0m\n",
      "\u001b[34m/opt/amazon/lib/python3.8/site-packages/mxnet/model.py:97: SyntaxWarning: \"is\" with a literal. Did you mean \"==\"?\n",
      "  if num_device is 1 and 'dist' not in kvstore:\u001b[0m\n",
      "\u001b[34m/opt/amazon/lib/python3.8/site-packages/scipy/optimize/_shgo.py:495: SyntaxWarning: \"is\" with a literal. Did you mean \"==\"?\n",
      "  if cons['type'] is 'ineq':\u001b[0m\n",
      "\u001b[34m/opt/amazon/lib/python3.8/site-packages/scipy/optimize/_shgo.py:743: SyntaxWarning: \"is not\" with a literal. Did you mean \"!=\"?\n",
      "  if len(self.X_min) is not 0:\u001b[0m\n",
      "\u001b[34m[11/04/2024 07:09:16 WARNING 140486953903936] Loggers have already been setup.\u001b[0m\n",
      "\u001b[34m[11/04/2024 07:09:17 INFO 140486953903936] loaded entry point class algorithm.serve.server_config:config_api\u001b[0m\n",
      "\u001b[34m[11/04/2024 07:09:17 INFO 140486953903936] loading entry points\u001b[0m\n",
      "\u001b[34m[11/04/2024 07:09:17 INFO 140486953903936] loaded request iterator application/json\u001b[0m\n",
      "\u001b[34m[11/04/2024 07:09:17 INFO 140486953903936] loaded request iterator application/jsonlines\u001b[0m\n",
      "\u001b[34m[11/04/2024 07:09:17 INFO 140486953903936] loaded request iterator application/x-recordio-protobuf\u001b[0m\n",
      "\u001b[34m[11/04/2024 07:09:17 INFO 140486953903936] loaded request iterator text/csv\u001b[0m\n",
      "\u001b[34m[11/04/2024 07:09:17 INFO 140486953903936] loaded response encoder application/json\u001b[0m\n",
      "\u001b[34m[11/04/2024 07:09:17 INFO 140486953903936] loaded response encoder application/jsonlines\u001b[0m\n",
      "\u001b[34m[11/04/2024 07:09:17 INFO 140486953903936] loaded response encoder application/x-recordio-protobuf\u001b[0m\n",
      "\u001b[34m[11/04/2024 07:09:17 INFO 140486953903936] loaded response encoder text/csv\u001b[0m\n",
      "\u001b[34m[11/04/2024 07:09:17 INFO 140486953903936] loaded entry point class algorithm:model\u001b[0m\n",
      "\u001b[34m[11/04/2024 07:09:17 INFO 140486953903936] Number of server workers: 16\u001b[0m\n",
      "\u001b[34m[11/04/2024 07:09:17 INFO 140486953903936] loading model...\u001b[0m\n",
      "\u001b[34m[11/04/2024 07:09:17 INFO 140486953903936] ...model loaded.\u001b[0m\n",
      "\u001b[34m[2024-11-04 07:09:17 +0000] [1] [INFO] Starting gunicorn 20.1.0\u001b[0m\n",
      "\u001b[34m[2024-11-04 07:09:17 +0000] [1] [INFO] Listening at: http://0.0.0.0:8080 (1)\u001b[0m\n",
      "\u001b[34m[2024-11-04 07:09:17 +0000] [1] [INFO] Using worker: sync\u001b[0m\n",
      "\u001b[34m[2024-11-04 07:09:17 +0000] [61] [INFO] Booting worker with pid: 61\u001b[0m\n",
      "\u001b[34m[2024-11-04 07:09:17 +0000] [70] [INFO] Booting worker with pid: 70\u001b[0m\n",
      "\u001b[34m[2024-11-04 07:09:17 +0000] [79] [INFO] Booting worker with pid: 79\u001b[0m\n",
      "\u001b[34m[2024-11-04 07:09:17 +0000] [88] [INFO] Booting worker with pid: 88\u001b[0m\n",
      "\u001b[34m[2024-11-04 07:09:17 +0000] [97] [INFO] Booting worker with pid: 97\u001b[0m\n",
      "\u001b[34m[2024-11-04 07:09:17 +0000] [106] [INFO] Booting worker with pid: 106\u001b[0m\n",
      "\u001b[34m[2024-11-04 07:09:17 +0000] [115] [INFO] Booting worker with pid: 115\u001b[0m\n",
      "\u001b[35mDocker entrypoint called with argument(s): serve\u001b[0m\n",
      "\u001b[35mRunning default environment configuration script\u001b[0m\n",
      "\u001b[35m[11/04/2024 07:09:14 INFO 140486953903936] Memory profiler is not enabled by the environment variable ENABLE_PROFILER.\u001b[0m\n",
      "\u001b[35m/opt/amazon/lib/python3.8/site-packages/mxnet/model.py:97: SyntaxWarning: \"is\" with a literal. Did you mean \"==\"?\n",
      "  if num_device is 1 and 'dist' not in kvstore:\u001b[0m\n",
      "\u001b[35m/opt/amazon/lib/python3.8/site-packages/scipy/optimize/_shgo.py:495: SyntaxWarning: \"is\" with a literal. Did you mean \"==\"?\n",
      "  if cons['type'] is 'ineq':\u001b[0m\n",
      "\u001b[35m/opt/amazon/lib/python3.8/site-packages/scipy/optimize/_shgo.py:743: SyntaxWarning: \"is not\" with a literal. Did you mean \"!=\"?\n",
      "  if len(self.X_min) is not 0:\u001b[0m\n",
      "\u001b[35m[11/04/2024 07:09:16 WARNING 140486953903936] Loggers have already been setup.\u001b[0m\n",
      "\u001b[35m[11/04/2024 07:09:17 INFO 140486953903936] loaded entry point class algorithm.serve.server_config:config_api\u001b[0m\n",
      "\u001b[35m[11/04/2024 07:09:17 INFO 140486953903936] loading entry points\u001b[0m\n",
      "\u001b[35m[11/04/2024 07:09:17 INFO 140486953903936] loaded request iterator application/json\u001b[0m\n",
      "\u001b[35m[11/04/2024 07:09:17 INFO 140486953903936] loaded request iterator application/jsonlines\u001b[0m\n",
      "\u001b[35m[11/04/2024 07:09:17 INFO 140486953903936] loaded request iterator application/x-recordio-protobuf\u001b[0m\n",
      "\u001b[35m[11/04/2024 07:09:17 INFO 140486953903936] loaded request iterator text/csv\u001b[0m\n",
      "\u001b[35m[11/04/2024 07:09:17 INFO 140486953903936] loaded response encoder application/json\u001b[0m\n",
      "\u001b[35m[11/04/2024 07:09:17 INFO 140486953903936] loaded response encoder application/jsonlines\u001b[0m\n",
      "\u001b[35m[11/04/2024 07:09:17 INFO 140486953903936] loaded response encoder application/x-recordio-protobuf\u001b[0m\n",
      "\u001b[35m[11/04/2024 07:09:17 INFO 140486953903936] loaded response encoder text/csv\u001b[0m\n",
      "\u001b[35m[11/04/2024 07:09:17 INFO 140486953903936] loaded entry point class algorithm:model\u001b[0m\n",
      "\u001b[35m[11/04/2024 07:09:17 INFO 140486953903936] Number of server workers: 16\u001b[0m\n",
      "\u001b[35m[11/04/2024 07:09:17 INFO 140486953903936] loading model...\u001b[0m\n",
      "\u001b[35m[11/04/2024 07:09:17 INFO 140486953903936] ...model loaded.\u001b[0m\n",
      "\u001b[35m[2024-11-04 07:09:17 +0000] [1] [INFO] Starting gunicorn 20.1.0\u001b[0m\n",
      "\u001b[35m[2024-11-04 07:09:17 +0000] [1] [INFO] Listening at: http://0.0.0.0:8080 (1)\u001b[0m\n",
      "\u001b[35m[2024-11-04 07:09:17 +0000] [1] [INFO] Using worker: sync\u001b[0m\n",
      "\u001b[35m[2024-11-04 07:09:17 +0000] [61] [INFO] Booting worker with pid: 61\u001b[0m\n",
      "\u001b[35m[2024-11-04 07:09:17 +0000] [70] [INFO] Booting worker with pid: 70\u001b[0m\n",
      "\u001b[35m[2024-11-04 07:09:17 +0000] [79] [INFO] Booting worker with pid: 79\u001b[0m\n",
      "\u001b[35m[2024-11-04 07:09:17 +0000] [88] [INFO] Booting worker with pid: 88\u001b[0m\n",
      "\u001b[35m[2024-11-04 07:09:17 +0000] [97] [INFO] Booting worker with pid: 97\u001b[0m\n",
      "\u001b[35m[2024-11-04 07:09:17 +0000] [106] [INFO] Booting worker with pid: 106\u001b[0m\n",
      "\u001b[35m[2024-11-04 07:09:17 +0000] [115] [INFO] Booting worker with pid: 115\u001b[0m\n",
      "\u001b[34m[2024-11-04 07:09:17 +0000] [124] [INFO] Booting worker with pid: 124\u001b[0m\n",
      "\u001b[34m#metrics {\"StartTime\": 1730704157.114815, \"EndTime\": 1730704157.4928913, \"Dimensions\": {\"Algorithm\": \"LinearLearnerModel\", \"Host\": \"UNKNOWN\", \"Operation\": \"scoring\"}, \"Metrics\": {\"execution_parameters.count\": {\"sum\": 1.0, \"count\": 1, \"min\": 1, \"max\": 1}}}\u001b[0m\n",
      "\u001b[34m[2024-11-04 07:09:17 +0000] [133] [INFO] Booting worker with pid: 133\u001b[0m\n",
      "\u001b[34m[2024-11-04 07:09:17 +0000] [142] [INFO] Booting worker with pid: 142\u001b[0m\n",
      "\u001b[34m[2024-11-04 07:09:17 +0000] [151] [INFO] Booting worker with pid: 151\u001b[0m\n",
      "\u001b[34m[2024-11-04 07:09:17 +0000] [160] [INFO] Booting worker with pid: 160\u001b[0m\n",
      "\u001b[34m[2024-11-04 07:09:17 +0000] [169] [INFO] Booting worker with pid: 169\u001b[0m\n",
      "\u001b[34m[2024-11-04 07:09:17 +0000] [178] [INFO] Booting worker with pid: 178\u001b[0m\n",
      "\u001b[34m[2024-11-04 07:09:17 +0000] [187] [INFO] Booting worker with pid: 187\u001b[0m\n",
      "\u001b[34m[2024-11-04 07:09:17 +0000] [196] [INFO] Booting worker with pid: 196\u001b[0m\n",
      "\u001b[35m[2024-11-04 07:09:17 +0000] [124] [INFO] Booting worker with pid: 124\u001b[0m\n",
      "\u001b[35m#metrics {\"StartTime\": 1730704157.114815, \"EndTime\": 1730704157.4928913, \"Dimensions\": {\"Algorithm\": \"LinearLearnerModel\", \"Host\": \"UNKNOWN\", \"Operation\": \"scoring\"}, \"Metrics\": {\"execution_parameters.count\": {\"sum\": 1.0, \"count\": 1, \"min\": 1, \"max\": 1}}}\u001b[0m\n",
      "\u001b[35m[2024-11-04 07:09:17 +0000] [133] [INFO] Booting worker with pid: 133\u001b[0m\n",
      "\u001b[35m[2024-11-04 07:09:17 +0000] [142] [INFO] Booting worker with pid: 142\u001b[0m\n",
      "\u001b[35m[2024-11-04 07:09:17 +0000] [151] [INFO] Booting worker with pid: 151\u001b[0m\n",
      "\u001b[35m[2024-11-04 07:09:17 +0000] [160] [INFO] Booting worker with pid: 160\u001b[0m\n",
      "\u001b[35m[2024-11-04 07:09:17 +0000] [169] [INFO] Booting worker with pid: 169\u001b[0m\n",
      "\u001b[35m[2024-11-04 07:09:17 +0000] [178] [INFO] Booting worker with pid: 178\u001b[0m\n",
      "\u001b[35m[2024-11-04 07:09:17 +0000] [187] [INFO] Booting worker with pid: 187\u001b[0m\n",
      "\u001b[35m[2024-11-04 07:09:17 +0000] [196] [INFO] Booting worker with pid: 196\u001b[0m\n",
      "\u001b[34m#metrics {\"StartTime\": 1730704157.114815, \"EndTime\": 1730704158.9462187, \"Dimensions\": {\"Algorithm\": \"LinearLearnerModel\", \"Host\": \"UNKNOWN\", \"Operation\": \"scoring\"}, \"Metrics\": {\"json.encoder.time\": {\"sum\": 75.61969757080078, \"count\": 1, \"min\": 75.61969757080078, \"max\": 75.61969757080078}, \"invocations.count\": {\"sum\": 1.0, \"count\": 1, \"min\": 1, \"max\": 1}}}\u001b[0m\n",
      "\u001b[34m#metrics {\"StartTime\": 1730704157.114815, \"EndTime\": 1730704158.948794, \"Dimensions\": {\"Algorithm\": \"LinearLearnerModel\", \"Host\": \"UNKNOWN\", \"Operation\": \"scoring\"}, \"Metrics\": {\"json.encoder.time\": {\"sum\": 73.72784614562988, \"count\": 1, \"min\": 73.72784614562988, \"max\": 73.72784614562988}, \"invocations.count\": {\"sum\": 1.0, \"count\": 1, \"min\": 1, \"max\": 1}}}\u001b[0m\n",
      "\u001b[34m#metrics {\"StartTime\": 1730704157.114815, \"EndTime\": 1730704158.959524, \"Dimensions\": {\"Algorithm\": \"LinearLearnerModel\", \"Host\": \"UNKNOWN\", \"Operation\": \"scoring\"}, \"Metrics\": {\"json.encoder.time\": {\"sum\": 69.55981254577637, \"count\": 1, \"min\": 69.55981254577637, \"max\": 69.55981254577637}, \"invocations.count\": {\"sum\": 1.0, \"count\": 1, \"min\": 1, \"max\": 1}}}\u001b[0m\n",
      "\u001b[34m#metrics {\"StartTime\": 1730704157.114815, \"EndTime\": 1730704158.9887047, \"Dimensions\": {\"Algorithm\": \"LinearLearnerModel\", \"Host\": \"UNKNOWN\", \"Operation\": \"scoring\"}, \"Metrics\": {\"json.encoder.time\": {\"sum\": 64.15510177612305, \"count\": 1, \"min\": 64.15510177612305, \"max\": 64.15510177612305}, \"invocations.count\": {\"sum\": 1.0, \"count\": 1, \"min\": 1, \"max\": 1}}}\u001b[0m\n",
      "\u001b[34m#metrics {\"StartTime\": 1730704157.114815, \"EndTime\": 1730704159.0037742, \"Dimensions\": {\"Algorithm\": \"LinearLearnerModel\", \"Host\": \"UNKNOWN\", \"Operation\": \"scoring\"}, \"Metrics\": {\"json.encoder.time\": {\"sum\": 68.34554672241211, \"count\": 1, \"min\": 68.34554672241211, \"max\": 68.34554672241211}, \"invocations.count\": {\"sum\": 1.0, \"count\": 1, \"min\": 1, \"max\": 1}}}\u001b[0m\n",
      "\u001b[34m#metrics {\"StartTime\": 1730704157.114815, \"EndTime\": 1730704159.030721, \"Dimensions\": {\"Algorithm\": \"LinearLearnerModel\", \"Host\": \"UNKNOWN\", \"Operation\": \"scoring\"}, \"Metrics\": {\"json.encoder.time\": {\"sum\": 69.2598819732666, \"count\": 1, \"min\": 69.2598819732666, \"max\": 69.2598819732666}, \"invocations.count\": {\"sum\": 1.0, \"count\": 1, \"min\": 1, \"max\": 1}}}\u001b[0m\n",
      "\u001b[35m#metrics {\"StartTime\": 1730704157.114815, \"EndTime\": 1730704158.9462187, \"Dimensions\": {\"Algorithm\": \"LinearLearnerModel\", \"Host\": \"UNKNOWN\", \"Operation\": \"scoring\"}, \"Metrics\": {\"json.encoder.time\": {\"sum\": 75.61969757080078, \"count\": 1, \"min\": 75.61969757080078, \"max\": 75.61969757080078}, \"invocations.count\": {\"sum\": 1.0, \"count\": 1, \"min\": 1, \"max\": 1}}}\u001b[0m\n",
      "\u001b[35m#metrics {\"StartTime\": 1730704157.114815, \"EndTime\": 1730704158.948794, \"Dimensions\": {\"Algorithm\": \"LinearLearnerModel\", \"Host\": \"UNKNOWN\", \"Operation\": \"scoring\"}, \"Metrics\": {\"json.encoder.time\": {\"sum\": 73.72784614562988, \"count\": 1, \"min\": 73.72784614562988, \"max\": 73.72784614562988}, \"invocations.count\": {\"sum\": 1.0, \"count\": 1, \"min\": 1, \"max\": 1}}}\u001b[0m\n",
      "\u001b[35m#metrics {\"StartTime\": 1730704157.114815, \"EndTime\": 1730704158.959524, \"Dimensions\": {\"Algorithm\": \"LinearLearnerModel\", \"Host\": \"UNKNOWN\", \"Operation\": \"scoring\"}, \"Metrics\": {\"json.encoder.time\": {\"sum\": 69.55981254577637, \"count\": 1, \"min\": 69.55981254577637, \"max\": 69.55981254577637}, \"invocations.count\": {\"sum\": 1.0, \"count\": 1, \"min\": 1, \"max\": 1}}}\u001b[0m\n",
      "\u001b[35m#metrics {\"StartTime\": 1730704157.114815, \"EndTime\": 1730704158.9887047, \"Dimensions\": {\"Algorithm\": \"LinearLearnerModel\", \"Host\": \"UNKNOWN\", \"Operation\": \"scoring\"}, \"Metrics\": {\"json.encoder.time\": {\"sum\": 64.15510177612305, \"count\": 1, \"min\": 64.15510177612305, \"max\": 64.15510177612305}, \"invocations.count\": {\"sum\": 1.0, \"count\": 1, \"min\": 1, \"max\": 1}}}\u001b[0m\n",
      "\u001b[35m#metrics {\"StartTime\": 1730704157.114815, \"EndTime\": 1730704159.0037742, \"Dimensions\": {\"Algorithm\": \"LinearLearnerModel\", \"Host\": \"UNKNOWN\", \"Operation\": \"scoring\"}, \"Metrics\": {\"json.encoder.time\": {\"sum\": 68.34554672241211, \"count\": 1, \"min\": 68.34554672241211, \"max\": 68.34554672241211}, \"invocations.count\": {\"sum\": 1.0, \"count\": 1, \"min\": 1, \"max\": 1}}}\u001b[0m\n",
      "\u001b[35m#metrics {\"StartTime\": 1730704157.114815, \"EndTime\": 1730704159.030721, \"Dimensions\": {\"Algorithm\": \"LinearLearnerModel\", \"Host\": \"UNKNOWN\", \"Operation\": \"scoring\"}, \"Metrics\": {\"json.encoder.time\": {\"sum\": 69.2598819732666, \"count\": 1, \"min\": 69.2598819732666, \"max\": 69.2598819732666}, \"invocations.count\": {\"sum\": 1.0, \"count\": 1, \"min\": 1, \"max\": 1}}}\u001b[0m\n",
      "\u001b[32m2024-11-04T07:09:17.496:[sagemaker logs]: MaxConcurrentTransforms=16, MaxPayloadInMB=6, BatchStrategy=MULTI_RECORD\u001b[0m\n"
     ]
    }
   ],
   "source": [
    "#creating a transformer for the linear learner model and starting a batch transform job\n",
    "#the transformer is configured with specific instance settings and output location\n",
    "#then, it performs the batch transform on the input data from s3 and waits for the job to complete\n",
    "\n",
    "linear_transformer = linear_model.transformer(\n",
    "    instance_count=1,\n",
    "    instance_type=\"ml.c5.4xlarge\",\n",
    "    strategy=\"MultiRecord\",\n",
    "    assemble_with=\"Line\",\n",
    "    output_path=batch_output,\n",
    ")\n",
    "\n",
    "linear_transformer.transform(\n",
    "    data=batch_input,\n",
    "    data_type=\"S3Prefix\",\n",
    "    content_type=\"text/csv\",\n",
    "    split_type=\"Line\",\n",
    "    logs=False,\n",
    ")\n",
    "\n",
    "linear_transformer.wait()"
   ]
  },
  {
   "cell_type": "code",
   "execution_count": 27,
   "metadata": {
    "tags": []
   },
   "outputs": [
    {
     "data": {
      "text/html": [
       "<div>\n",
       "<style scoped>\n",
       "    .dataframe tbody tr th:only-of-type {\n",
       "        vertical-align: middle;\n",
       "    }\n",
       "\n",
       "    .dataframe tbody tr th {\n",
       "        vertical-align: top;\n",
       "    }\n",
       "\n",
       "    .dataframe thead th {\n",
       "        text-align: right;\n",
       "    }\n",
       "</style>\n",
       "<table border=\"1\" class=\"dataframe\">\n",
       "  <thead>\n",
       "    <tr style=\"text-align: right;\">\n",
       "      <th></th>\n",
       "      <th>class</th>\n",
       "    </tr>\n",
       "  </thead>\n",
       "  <tbody>\n",
       "    <tr>\n",
       "      <th>{\"predicted_label\":0</th>\n",
       "      <td>score:0.202265635132789}</td>\n",
       "    </tr>\n",
       "    <tr>\n",
       "      <th>{\"predicted_label\":0</th>\n",
       "      <td>score:0.203295961022377}</td>\n",
       "    </tr>\n",
       "    <tr>\n",
       "      <th>{\"predicted_label\":0</th>\n",
       "      <td>score:0.188853040337562}</td>\n",
       "    </tr>\n",
       "    <tr>\n",
       "      <th>{\"predicted_label\":0</th>\n",
       "      <td>score:0.200587853789329}</td>\n",
       "    </tr>\n",
       "    <tr>\n",
       "      <th>{\"predicted_label\":0</th>\n",
       "      <td>score:0.203493908047676}</td>\n",
       "    </tr>\n",
       "  </tbody>\n",
       "</table>\n",
       "</div>"
      ],
      "text/plain": [
       "                                         class\n",
       "{\"predicted_label\":0  score:0.202265635132789}\n",
       "{\"predicted_label\":0  score:0.203295961022377}\n",
       "{\"predicted_label\":0  score:0.188853040337562}\n",
       "{\"predicted_label\":0  score:0.200587853789329}\n",
       "{\"predicted_label\":0  score:0.203493908047676}"
      ]
     },
     "execution_count": 27,
     "metadata": {},
     "output_type": "execute_result"
    }
   ],
   "source": [
    "#fetching and reading the output data from s3 after batch prediction\n",
    "#the output is read into a pandas dataframe for further processing or analysis\n",
    "\n",
    "s3 = boto3.client(\"s3\")\n",
    "obj = s3.get_object(\n",
    "    Bucket=bucket_dsts,\n",
    "    Key=\"{}/batch-out-linear/{}\".format(prefix, \"batch-in-linear.csv.out\"),\n",
    ")\n",
    "target_prediction_df = pd.read_csv(\n",
    "    io.BytesIO(obj[\"Body\"].read()), header=None, names=[\"class\"]\n",
    ")\n",
    "\n",
    "#printing the head\n",
    "target_prediction_df.head(5)"
   ]
  },
  {
   "cell_type": "code",
   "execution_count": 28,
   "metadata": {
    "tags": []
   },
   "outputs": [],
   "source": [
    "#extracting prediction indices, labels, and scores from the dataframe, converting them to numeric type\n",
    "\n",
    "predicted_indices = target_prediction_df.index\n",
    "predicted_indices[0][-1]\n",
    "target_prediction_df.iloc[0, 0][6:-1]\n",
    "predicted_labels = [str(pred_index)[-1] for pred_index in predicted_indices]\n",
    "predicted_scores = [str(row[0])[6:-1] for row in target_prediction_df.itertuples(index=False)]\n",
    "predicted_scores = pd.to_numeric(predicted_scores)\n",
    "predicted_labels = pd.to_numeric(predicted_labels)"
   ]
  },
  {
   "cell_type": "markdown",
   "metadata": {},
   "source": [
    "## Results"
   ]
  },
  {
   "cell_type": "code",
   "execution_count": 31,
   "metadata": {
    "tags": []
   },
   "outputs": [
    {
     "data": {
      "text/plain": [
       "<sklearn.metrics._plot.confusion_matrix.ConfusionMatrixDisplay at 0x7f54fe426740>"
      ]
     },
     "execution_count": 31,
     "metadata": {},
     "output_type": "execute_result"
    },
    {
     "data": {
      "image/png": "[encoded data removed]",
      "text/plain": [
       "<Figure size 640x480 with 2 Axes>"
      ]
     },
     "metadata": {},
     "output_type": "display_data"
    },
    {
     "data": {
      "image/png": "[encoded data removed]",
      "text/plain": [
       "<Figure size 640x480 with 2 Axes>"
      ]
     },
     "metadata": {},
     "output_type": "display_data"
    }
   ],
   "source": [
    "#plotting the confusion matrix\n",
    "ConfusionMatrixDisplay.from_predictions(test.iloc[:, 0], predicted_labels, cmap='viridis').plot()"
   ]
  },
  {
   "cell_type": "code",
   "execution_count": 30,
   "metadata": {
    "tags": []
   },
   "outputs": [
    {
     "name": "stdout",
     "output_type": "stream",
     "text": [
      "Classification Report on Test Data\n",
      "              precision    recall  f1-score   support\n",
      "\n",
      "         0.0       0.79      1.00      0.88    193838\n",
      "         1.0       0.53      0.01      0.01     51500\n",
      "\n",
      "    accuracy                           0.79    245338\n",
      "   macro avg       0.66      0.50      0.45    245338\n",
      "weighted avg       0.74      0.79      0.70    245338\n",
      "\n"
     ]
    }
   ],
   "source": [
    "#classification report\n",
    "print(\"Classification Report on Test Data\")\n",
    "print(classification_report(test.iloc[:, 0], predicted_labels))"
   ]
  },
  {
   "cell_type": "markdown",
   "metadata": {},
   "source": [
    "Summary of the reults:\n",
    "The model struggles with imbalanced data, heavily favoring class 0.0. Precision: High precision for class 0.0 (79%) but low precision for class 1.0 (53%). \n",
    "Extremely low recall for class 1.0 (1%), indicating many missed true positives. \n",
    "The model achieves 79% accuracy, but this is misleading due to class imbalance. \n",
    "The model misclassifies most positive cases, correctly identifying only 324 out of 51,500."
   ]
  }
 ],
 "metadata": {
  "kernelspec": {
   "display_name": "conda_python3",
   "language": "python",
   "name": "conda_python3"
  },
  "language_info": {
   "codemirror_mode": {
    "name": "ipython",
    "version": 3
   },
   "file_extension": ".py",
   "mimetype": "text/x-python",
   "name": "python",
   "nbconvert_exporter": "python",
   "pygments_lexer": "ipython3",
   "version": "3.10.15"
  }
 },
 "nbformat": 4,
 "nbformat_minor": 4
}
