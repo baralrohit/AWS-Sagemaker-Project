{
 "cells": [
  {
   "cell_type": "markdown",
   "metadata": {},
   "source": [
    "# Ensemble Model(csv v1)"
   ]
  },
  {
   "cell_type": "code",
   "execution_count": 1,
   "metadata": {
    "tags": []
   },
   "outputs": [
    {
     "name": "stdout",
     "output_type": "stream",
     "text": [
      "sagemaker.config INFO - Not applying SDK defaults from location: /etc/xdg/sagemaker/config.yaml\n",
      "sagemaker.config INFO - Not applying SDK defaults from location: /home/ec2-user/.config/sagemaker/config.yaml\n"
     ]
    },
    {
     "name": "stderr",
     "output_type": "stream",
     "text": [
      "Matplotlib is building the font cache; this may take a moment.\n"
     ]
    }
   ],
   "source": [
    "#importing the required libraries libraries\n",
    "import warnings, requests, zipfile, io\n",
    "\n",
    "warnings.simplefilter(\"ignore\")\n",
    "import pandas as pd\n",
    "from scipy.io import arff\n",
    "\n",
    "import os\n",
    "import boto3\n",
    "import sagemaker\n",
    "from sagemaker.image_uris import retrieve\n",
    "from sklearn.model_selection import train_test_split\n",
    "import numpy as np\n",
    "import sagemaker.amazon.common as smac\n",
    "from sagemaker.image_uris import retrieve\n",
    "import pandas as pd\n",
    "import matplotlib.pyplot as plt\n",
    "from sklearn.metrics import confusion_matrix, ConfusionMatrixDisplay\n",
    "from sklearn.metrics import classification_report\n",
    "from sklearn.metrics import roc_curve, auc"
   ]
  },
  {
   "cell_type": "code",
   "execution_count": 2,
   "metadata": {
    "tags": []
   },
   "outputs": [],
   "source": [
    "import logging\n",
    "\n",
    "# importing boto3\n",
    "from botocore.exceptions import ClientError\n",
    "\n",
    "def initialize_s3_container(storage_name, locality=None):\n",
    "    try:\n",
    "        # if no locality is provided, use default aws region and create s3 client\n",
    "        if locality is None:\n",
    "            s3_service = boto3.client(\"s3\")\n",
    "            s3_service.create_bucket(Bucket=storage_name)\n",
    "        else:\n",
    "            s3_service = boto3.client(\"s3\", region_name=locality)\n",
    "            config_location = {\"LocationConstraint\": locality}\n",
    "            s3_service.create_bucket(\n",
    "                Bucket=storage_name, CreateBucketConfiguration=config_location\n",
    "            )\n",
    "\n",
    "    except ClientError as error_log:\n",
    "        logging.error(error_log)\n",
    "        return False\n",
    "    #printing the message after successful creation\n",
    "    print(f\"S3 Bucket: {storage_name} has been successfully created.\")\n",
    "    return True"
   ]
  },
  {
   "cell_type": "markdown",
   "metadata": {},
   "source": [
    "## Bucket Verification"
   ]
  },
  {
   "cell_type": "code",
   "execution_count": 3,
   "metadata": {
    "tags": []
   },
   "outputs": [],
   "source": [
    "#function to check if the bucket exists\n",
    "def bucket_check(bucket_name):\n",
    "    s3 = boto3.client(\"s3\")\n",
    "    try:\n",
    "        #checking if the bucket exists using head_bucket\n",
    "        s3.head_bucket(Bucket=bucket_name)\n",
    "        print(f\"Bucket '{bucket_name}' already exists.\")\n",
    "        return True\n",
    "    except ClientError as e:\n",
    "        #handling the 404 error if the bucket does not exist\n",
    "        if e.response[\"Error\"][\"Code\"] == \"404\":\n",
    "            print(f\"Bucket '{bucket_name}' does not exist.\")\n",
    "            return False\n",
    "        else:\n",
    "            #raising any other error if it occurs\n",
    "            raise"
   ]
  },
  {
   "cell_type": "markdown",
   "metadata": {},
   "source": [
    "## Bucket setup"
   ]
  },
  {
   "cell_type": "code",
   "execution_count": 4,
   "metadata": {
    "tags": []
   },
   "outputs": [
    {
     "name": "stdout",
     "output_type": "stream",
     "text": [
      "Bucket 'u3268792-dsts-rohit-ensemble-1' does not exist.\n",
      "S3 Bucket: u3268792-dsts-rohit-ensemble-1 has been successfully created.\n"
     ]
    }
   ],
   "source": [
    "## setting the s3 bucket name, fetching the s3 resource, checking if the bucket exists, and creating it if not\n",
    "bucket_dsts = \"u3268792-dsts-rohit-ensemble-1\"\n",
    "s3_instance = boto3.Session().resource(\"s3\")\n",
    "container_exists = bucket_check(bucket_dsts)\n",
    "if not container_exists:\n",
    "    initialize_s3_container(bucket_dsts)"
   ]
  },
  {
   "cell_type": "code",
   "execution_count": 5,
   "metadata": {
    "tags": []
   },
   "outputs": [],
   "source": [
    "# setting the prefix and defining a function to upload a csv file to aws s3\n",
    "\n",
    "prefix = \"oncloud\"\n",
    "\n",
    "def upload_csv(filename, folder, dataframe):\n",
    "    csv_buffer = io.StringIO()\n",
    "    dataframe.to_csv(csv_buffer, header=False, index=False)\n",
    "    print(s3_instance.Bucket(bucket_dsts))\n",
    "    s3_instance.Bucket(bucket_dsts).Object(os.path.join(prefix, folder, filename)).put(\n",
    "        Body=csv_buffer.getvalue()\n",
    "    )"
   ]
  },
  {
   "cell_type": "markdown",
   "metadata": {},
   "source": [
    "### Reading the data"
   ]
  },
  {
   "cell_type": "code",
   "execution_count": 6,
   "metadata": {
    "tags": []
   },
   "outputs": [
    {
     "name": "stdout",
     "output_type": "stream",
     "text": [
      "   target  Distance  Quarter_2  Quarter_3  Quarter_4  Month_2  Month_3  \\\n",
      "0     0.0     689.0      False      False      False    False    False   \n",
      "1     0.0     731.0      False      False      False    False    False   \n",
      "2     0.0    1199.0      False      False      False    False    False   \n",
      "3     0.0    1587.0      False      False      False    False    False   \n",
      "4     0.0    1587.0      False      False      False    False    False   \n",
      "\n",
      "   Month_4  Month_5  Month_6  ...  Dest_DEN  Dest_DFW  Dest_IAH  Dest_LAX  \\\n",
      "0    False    False    False  ...     False     False      True     False   \n",
      "1    False    False    False  ...     False     False     False     False   \n",
      "2    False    False    False  ...      True     False     False     False   \n",
      "3    False    False    False  ...     False     False     False     False   \n",
      "4    False    False    False  ...     False     False     False     False   \n",
      "\n",
      "   Dest_ORD  Dest_PHX  Dest_SFO  DepHourofDay_Morning  DepHourofDay_Afternoon  \\\n",
      "0     False     False     False                 False                   False   \n",
      "1     False     False     False                  True                   False   \n",
      "2     False     False     False                 False                   False   \n",
      "3     False      True     False                 False                    True   \n",
      "4     False     False     False                  True                   False   \n",
      "\n",
      "   DepHourofDay_Evening  \n",
      "0                  True  \n",
      "1                 False  \n",
      "2                  True  \n",
      "3                 False  \n",
      "4                 False  \n",
      "\n",
      "[5 rows x 75 columns]\n",
      "(1635590, 75)\n"
     ]
    }
   ],
   "source": [
    "#loading the data\n",
    "df_v1 = pd.read_csv(\"./combined_csv_v1.csv\")\n",
    "\n",
    "print(df_v1.head())\n",
    "print(df_v1.shape)"
   ]
  },
  {
   "cell_type": "code",
   "execution_count": 7,
   "metadata": {
    "tags": []
   },
   "outputs": [],
   "source": [
    "#creating the copy of the original data\n",
    "df=df_v1.copy()"
   ]
  },
  {
   "cell_type": "code",
   "execution_count": 23,
   "metadata": {
    "tags": []
   },
   "outputs": [],
   "source": [
    "#converting all boolean values to 1 and 0\n",
    "df = df.replace({True: 1, False: 0})"
   ]
  },
  {
   "cell_type": "code",
   "execution_count": 24,
   "metadata": {
    "tags": []
   },
   "outputs": [
    {
     "data": {
      "text/html": [
       "<div>\n",
       "<style scoped>\n",
       "    .dataframe tbody tr th:only-of-type {\n",
       "        vertical-align: middle;\n",
       "    }\n",
       "\n",
       "    .dataframe tbody tr th {\n",
       "        vertical-align: top;\n",
       "    }\n",
       "\n",
       "    .dataframe thead th {\n",
       "        text-align: right;\n",
       "    }\n",
       "</style>\n",
       "<table border=\"1\" class=\"dataframe\">\n",
       "  <thead>\n",
       "    <tr style=\"text-align: right;\">\n",
       "      <th></th>\n",
       "      <th>target</th>\n",
       "      <th>Distance</th>\n",
       "      <th>Quarter_2</th>\n",
       "      <th>Quarter_3</th>\n",
       "      <th>Quarter_4</th>\n",
       "      <th>Month_2</th>\n",
       "      <th>Month_3</th>\n",
       "      <th>Month_4</th>\n",
       "      <th>Month_5</th>\n",
       "      <th>Month_6</th>\n",
       "      <th>...</th>\n",
       "      <th>Dest_DEN</th>\n",
       "      <th>Dest_DFW</th>\n",
       "      <th>Dest_IAH</th>\n",
       "      <th>Dest_LAX</th>\n",
       "      <th>Dest_ORD</th>\n",
       "      <th>Dest_PHX</th>\n",
       "      <th>Dest_SFO</th>\n",
       "      <th>DepHourofDay_Morning</th>\n",
       "      <th>DepHourofDay_Afternoon</th>\n",
       "      <th>DepHourofDay_Evening</th>\n",
       "    </tr>\n",
       "  </thead>\n",
       "  <tbody>\n",
       "    <tr>\n",
       "      <th>0</th>\n",
       "      <td>0.0</td>\n",
       "      <td>689.0</td>\n",
       "      <td>0</td>\n",
       "      <td>0</td>\n",
       "      <td>0</td>\n",
       "      <td>0</td>\n",
       "      <td>0</td>\n",
       "      <td>0</td>\n",
       "      <td>0</td>\n",
       "      <td>0</td>\n",
       "      <td>...</td>\n",
       "      <td>0</td>\n",
       "      <td>0</td>\n",
       "      <td>1</td>\n",
       "      <td>0</td>\n",
       "      <td>0</td>\n",
       "      <td>0</td>\n",
       "      <td>0</td>\n",
       "      <td>0</td>\n",
       "      <td>0</td>\n",
       "      <td>1</td>\n",
       "    </tr>\n",
       "    <tr>\n",
       "      <th>1</th>\n",
       "      <td>0.0</td>\n",
       "      <td>731.0</td>\n",
       "      <td>0</td>\n",
       "      <td>0</td>\n",
       "      <td>0</td>\n",
       "      <td>0</td>\n",
       "      <td>0</td>\n",
       "      <td>0</td>\n",
       "      <td>0</td>\n",
       "      <td>0</td>\n",
       "      <td>...</td>\n",
       "      <td>0</td>\n",
       "      <td>0</td>\n",
       "      <td>0</td>\n",
       "      <td>0</td>\n",
       "      <td>0</td>\n",
       "      <td>0</td>\n",
       "      <td>0</td>\n",
       "      <td>1</td>\n",
       "      <td>0</td>\n",
       "      <td>0</td>\n",
       "    </tr>\n",
       "    <tr>\n",
       "      <th>2</th>\n",
       "      <td>0.0</td>\n",
       "      <td>1199.0</td>\n",
       "      <td>0</td>\n",
       "      <td>0</td>\n",
       "      <td>0</td>\n",
       "      <td>0</td>\n",
       "      <td>0</td>\n",
       "      <td>0</td>\n",
       "      <td>0</td>\n",
       "      <td>0</td>\n",
       "      <td>...</td>\n",
       "      <td>1</td>\n",
       "      <td>0</td>\n",
       "      <td>0</td>\n",
       "      <td>0</td>\n",
       "      <td>0</td>\n",
       "      <td>0</td>\n",
       "      <td>0</td>\n",
       "      <td>0</td>\n",
       "      <td>0</td>\n",
       "      <td>1</td>\n",
       "    </tr>\n",
       "    <tr>\n",
       "      <th>3</th>\n",
       "      <td>0.0</td>\n",
       "      <td>1587.0</td>\n",
       "      <td>0</td>\n",
       "      <td>0</td>\n",
       "      <td>0</td>\n",
       "      <td>0</td>\n",
       "      <td>0</td>\n",
       "      <td>0</td>\n",
       "      <td>0</td>\n",
       "      <td>0</td>\n",
       "      <td>...</td>\n",
       "      <td>0</td>\n",
       "      <td>0</td>\n",
       "      <td>0</td>\n",
       "      <td>0</td>\n",
       "      <td>0</td>\n",
       "      <td>1</td>\n",
       "      <td>0</td>\n",
       "      <td>0</td>\n",
       "      <td>1</td>\n",
       "      <td>0</td>\n",
       "    </tr>\n",
       "    <tr>\n",
       "      <th>4</th>\n",
       "      <td>0.0</td>\n",
       "      <td>1587.0</td>\n",
       "      <td>0</td>\n",
       "      <td>0</td>\n",
       "      <td>0</td>\n",
       "      <td>0</td>\n",
       "      <td>0</td>\n",
       "      <td>0</td>\n",
       "      <td>0</td>\n",
       "      <td>0</td>\n",
       "      <td>...</td>\n",
       "      <td>0</td>\n",
       "      <td>0</td>\n",
       "      <td>0</td>\n",
       "      <td>0</td>\n",
       "      <td>0</td>\n",
       "      <td>0</td>\n",
       "      <td>0</td>\n",
       "      <td>1</td>\n",
       "      <td>0</td>\n",
       "      <td>0</td>\n",
       "    </tr>\n",
       "  </tbody>\n",
       "</table>\n",
       "<p>5 rows × 75 columns</p>\n",
       "</div>"
      ],
      "text/plain": [
       "   target  Distance  Quarter_2  Quarter_3  Quarter_4  Month_2  Month_3  \\\n",
       "0     0.0     689.0          0          0          0        0        0   \n",
       "1     0.0     731.0          0          0          0        0        0   \n",
       "2     0.0    1199.0          0          0          0        0        0   \n",
       "3     0.0    1587.0          0          0          0        0        0   \n",
       "4     0.0    1587.0          0          0          0        0        0   \n",
       "\n",
       "   Month_4  Month_5  Month_6  ...  Dest_DEN  Dest_DFW  Dest_IAH  Dest_LAX  \\\n",
       "0        0        0        0  ...         0         0         1         0   \n",
       "1        0        0        0  ...         0         0         0         0   \n",
       "2        0        0        0  ...         1         0         0         0   \n",
       "3        0        0        0  ...         0         0         0         0   \n",
       "4        0        0        0  ...         0         0         0         0   \n",
       "\n",
       "   Dest_ORD  Dest_PHX  Dest_SFO  DepHourofDay_Morning  DepHourofDay_Afternoon  \\\n",
       "0         0         0         0                     0                       0   \n",
       "1         0         0         0                     1                       0   \n",
       "2         0         0         0                     0                       0   \n",
       "3         0         1         0                     0                       1   \n",
       "4         0         0         0                     1                       0   \n",
       "\n",
       "   DepHourofDay_Evening  \n",
       "0                     1  \n",
       "1                     0  \n",
       "2                     1  \n",
       "3                     0  \n",
       "4                     0  \n",
       "\n",
       "[5 rows x 75 columns]"
      ]
     },
     "execution_count": 24,
     "metadata": {},
     "output_type": "execute_result"
    }
   ],
   "source": [
    "df.head()"
   ]
  },
  {
   "cell_type": "code",
   "execution_count": 25,
   "metadata": {
    "tags": []
   },
   "outputs": [
    {
     "data": {
      "text/plain": [
       "target                    0\n",
       "Distance                  0\n",
       "Quarter_2                 0\n",
       "Quarter_3                 0\n",
       "Quarter_4                 0\n",
       "                         ..\n",
       "Dest_PHX                  0\n",
       "Dest_SFO                  0\n",
       "DepHourofDay_Morning      0\n",
       "DepHourofDay_Afternoon    0\n",
       "DepHourofDay_Evening      0\n",
       "Length: 75, dtype: int64"
      ]
     },
     "execution_count": 25,
     "metadata": {},
     "output_type": "execute_result"
    }
   ],
   "source": [
    "#checking the null values\n",
    "df.isnull().sum()"
   ]
  },
  {
   "cell_type": "markdown",
   "metadata": {},
   "source": [
    "### Split the dataset"
   ]
  },
  {
   "cell_type": "code",
   "execution_count": 26,
   "metadata": {
    "tags": []
   },
   "outputs": [],
   "source": [
    "#spliting the dataset into train, test and validation (70,15,15)\n",
    "train, test_and_validate = train_test_split(\n",
    "    df, test_size=0.3, random_state=42, stratify=df[\"target\"]\n",
    ")\n",
    "test, validate = train_test_split(\n",
    "    test_and_validate,\n",
    "    test_size=0.5,\n",
    "    random_state=42,\n",
    "    stratify=test_and_validate[\"target\"],\n",
    ")"
   ]
  },
  {
   "cell_type": "code",
   "execution_count": 27,
   "metadata": {
    "tags": []
   },
   "outputs": [
    {
     "name": "stdout",
     "output_type": "stream",
     "text": [
      "(1144913, 75)\n",
      "(245338, 75)\n",
      "(245339, 75)\n"
     ]
    }
   ],
   "source": [
    "#printing the shape\n",
    "print(train.shape)\n",
    "print(test.shape)\n",
    "print(validate.shape)"
   ]
  },
  {
   "cell_type": "code",
   "execution_count": 28,
   "metadata": {
    "tags": []
   },
   "outputs": [],
   "source": [
    "#changing the names for the files to upload to the bucket\n",
    "train_file = \"data_v1_train.csv\"\n",
    "test_file = \"data_v1_test.csv\"\n",
    "validate_file = \"data_v1_validate.csv\""
   ]
  },
  {
   "cell_type": "code",
   "execution_count": 29,
   "metadata": {
    "tags": []
   },
   "outputs": [
    {
     "name": "stdout",
     "output_type": "stream",
     "text": [
      "s3.Bucket(name='u3268792-dsts-rohit-ensemble-1')\n",
      "s3.Bucket(name='u3268792-dsts-rohit-ensemble-1')\n",
      "s3.Bucket(name='u3268792-dsts-rohit-ensemble-1')\n"
     ]
    }
   ],
   "source": [
    "#uploading each dataset subset to the specified S3 locations\n",
    "upload_csv(train_file, \"train\", train)\n",
    "upload_csv(test_file, \"test\", test)\n",
    "upload_csv(validate_file, \"validate\", validate)"
   ]
  },
  {
   "cell_type": "code",
   "execution_count": 30,
   "metadata": {
    "tags": []
   },
   "outputs": [
    {
     "name": "stderr",
     "output_type": "stream",
     "text": [
      "INFO:sagemaker.image_uris:Defaulting to only available Python version: py3\n",
      "INFO:sagemaker.image_uris:Defaulting to only supported image scope: cpu.\n"
     ]
    }
   ],
   "source": [
    "#retrieving the amazon sagemaker container for the 'linear-learner' in the 'us-east-1' region\n",
    "container = retrieve(\"xgboost\", \"us-east-1\", version=\"1.0-1\")"
   ]
  },
  {
   "cell_type": "code",
   "execution_count": 31,
   "metadata": {
    "tags": []
   },
   "outputs": [],
   "source": [
    "#defining paramters\n",
    "params={\"num_round\": \"42\", \"eval_metric\": \"auc\", \"objective\": \"binary:logistic\"}"
   ]
  },
  {
   "cell_type": "code",
   "execution_count": 32,
   "metadata": {
    "tags": []
   },
   "outputs": [
    {
     "name": "stderr",
     "output_type": "stream",
     "text": [
      "INFO:botocore.credentials:Found credentials from IAM Role: BaseNotebookInstanceEc2InstanceRole\n"
     ]
    }
   ],
   "source": [
    "# setting up the sagemaker session, output location, and xgboost model with paramters which we defined\n",
    "\n",
    "session = sagemaker.Session(boto3.session.Session(region_name=\"us-east-1\"))\n",
    "s3_output_location = \"s3://{}/{}/output/\".format(bucket_dsts, prefix)\n",
    "xgb_model = sagemaker.estimator.Estimator(\n",
    "    container,\n",
    "    sagemaker.get_execution_role(),\n",
    "    instance_count=1,\n",
    "    instance_type=\"ml.c5.2xlarge\",\n",
    "    output_path=s3_output_location,\n",
    "    hyperparameters=params,\n",
    "    sagemaker_session=session,\n",
    ")\n"
   ]
  },
  {
   "cell_type": "code",
   "execution_count": 33,
   "metadata": {
    "tags": []
   },
   "outputs": [
    {
     "name": "stdout",
     "output_type": "stream",
     "text": [
      "channels <sagemaker.inputs.TrainingInput object at 0x7f973de6a1d0> \n",
      " <sagemaker.inputs.TrainingInput object at 0x7f973de69ae0>\n"
     ]
    }
   ],
   "source": [
    "# setting up the training and validation input channels from s3, specifying content type as csv\n",
    "train_channel = sagemaker.inputs.TrainingInput(\n",
    "    \"s3://{}/{}/train/{}\".format(bucket_dsts, prefix, train_file), content_type=\"text/csv\"\n",
    ")\n",
    "\n",
    "validate_channel = sagemaker.inputs.TrainingInput(\n",
    "    \"s3://{}/{}/validate/{}\".format(bucket_dsts, prefix, validate_file), content_type=\"text/csv\"\n",
    ")\n",
    "\n",
    "print(f\"channels {validate_channel} \\n {train_channel}\")\n",
    "\n",
    "data_channels = {\"train\": train_channel, \"validation\": validate_channel}\n"
   ]
  },
  {
   "cell_type": "markdown",
   "metadata": {},
   "source": [
    "## Train the model"
   ]
  },
  {
   "cell_type": "code",
   "execution_count": 34,
   "metadata": {
    "tags": []
   },
   "outputs": [
    {
     "name": "stderr",
     "output_type": "stream",
     "text": [
      "INFO:sagemaker:Creating training-job with name: sagemaker-xgboost-2024-11-04-08-16-06-487\n"
     ]
    },
    {
     "name": "stdout",
     "output_type": "stream",
     "text": [
      "\n",
      "2024-11-04 08:16:07 Starting - Starting the training job..\n",
      "2024-11-04 08:16:23 Starting - Preparing the instances for training..\n",
      "2024-11-04 08:16:42 Downloading - Downloading input data...\n",
      "2024-11-04 08:16:57 Downloading - Downloading the training image.....\n",
      "2024-11-04 08:17:28 Training - Training image download completed. Training in progress...........\n",
      "2024-11-04 08:18:23 Uploading - Uploading generated training model.\n",
      "2024-11-04 08:18:37 Completed - Training job completed\n"
     ]
    }
   ],
   "source": [
    "#fitting the model\n",
    "xgb_model.fit(inputs=data_channels, logs=False)"
   ]
  },
  {
   "cell_type": "code",
   "execution_count": 35,
   "metadata": {
    "tags": []
   },
   "outputs": [
    {
     "name": "stderr",
     "output_type": "stream",
     "text": [
      "INFO:sagemaker:Creating model with name: sagemaker-xgboost-2024-11-04-08-19-02-936\n",
      "INFO:sagemaker:Creating endpoint-config with name sagemaker-xgboost-2024-11-04-08-19-02-936\n",
      "INFO:sagemaker:Creating endpoint with name sagemaker-xgboost-2024-11-04-08-19-02-936\n"
     ]
    },
    {
     "name": "stdout",
     "output_type": "stream",
     "text": [
      "------!"
     ]
    }
   ],
   "source": [
    "# deploying the trained xgboost model to an endpoint with specified instance settings and csv serializer\n",
    "xgb_predictor = xgb_model.deploy(\n",
    "    initial_instance_count=1,\n",
    "    serializer=sagemaker.serializers.CSVSerializer(),\n",
    "    instance_type=\"ml.c5.4xlarge\",\n",
    ")\n"
   ]
  },
  {
   "cell_type": "markdown",
   "metadata": {},
   "source": [
    "## Batch Data for Prediction"
   ]
  },
  {
   "cell_type": "code",
   "execution_count": 36,
   "metadata": {
    "tags": []
   },
   "outputs": [
    {
     "name": "stdout",
     "output_type": "stream",
     "text": [
      "s3.Bucket(name='u3268792-dsts-rohit-ensemble-1')\n"
     ]
    }
   ],
   "source": [
    "#preparing the input data for batch prediction by extracting all columns except the first one from the test set which is our target variable\n",
    "batch_input_data = test.iloc[:, 1:]\n",
    "batch_input_filename = \"batch-for-ensemble.csv\"\n",
    "\n",
    "#uploading the prepared csv file to s3\n",
    "upload_csv(batch_input_filename, \"batch-in\", batch_input_data)"
   ]
  },
  {
   "cell_type": "code",
   "execution_count": 37,
   "metadata": {
    "tags": []
   },
   "outputs": [
    {
     "name": "stderr",
     "output_type": "stream",
     "text": [
      "INFO:sagemaker:Creating model with name: sagemaker-xgboost-2024-11-04-08-22-52-216\n"
     ]
    }
   ],
   "source": [
    "#setting up the s3 locations for batch input and output, and creating a transformer from the xgboost model with specified parameters\n",
    "\n",
    "batch_output = \"s3://{}/{}/batch-out/\".format(bucket_dsts, prefix)\n",
    "batch_input = \"s3://{}/{}/batch-in/{}\".format(bucket_dsts, prefix, batch_input_filename)\n",
    "\n",
    "xgboost_transformer = xgb_model.transformer(\n",
    "    instance_count=1,\n",
    "    instance_type=\"ml.c5.2xlarge\",\n",
    "    strategy=\"MultiRecord\",\n",
    "    assemble_with=\"Line\",\n",
    "    output_path=batch_output,\n",
    ")\n"
   ]
  },
  {
   "cell_type": "code",
   "execution_count": 38,
   "metadata": {
    "tags": []
   },
   "outputs": [
    {
     "name": "stderr",
     "output_type": "stream",
     "text": [
      "INFO:sagemaker:Creating transform job with name: sagemaker-xgboost-2024-11-04-08-22-54-658\n"
     ]
    },
    {
     "name": "stdout",
     "output_type": "stream",
     "text": [
      ".................................\n",
      "\u001b[34m[2024-11-04:08:28:26:INFO] No GPUs detected (normal if no gpus installed)\u001b[0m\n",
      "\u001b[34m[2024-11-04:08:28:26:INFO] No GPUs detected (normal if no gpus installed)\u001b[0m\n",
      "\u001b[34m[2024-11-04:08:28:26:INFO] nginx config: \u001b[0m\n",
      "\u001b[34mworker_processes auto;\u001b[0m\n",
      "\u001b[34mdaemon off;\u001b[0m\n",
      "\u001b[34mpid /tmp/nginx.pid;\u001b[0m\n",
      "\u001b[34merror_log  /dev/stderr;\u001b[0m\n",
      "\u001b[34mworker_rlimit_nofile 4096;\u001b[0m\n",
      "\u001b[34mevents {\n",
      "  worker_connections 2048;\u001b[0m\n",
      "\u001b[34m}\u001b[0m\n",
      "\u001b[34mhttp {\n",
      "  include /etc/nginx/mime.types;\n",
      "  default_type application/octet-stream;\n",
      "  access_log /dev/stdout combined;\n",
      "  upstream gunicorn {\n",
      "    server unix:/tmp/gunicorn.sock;\n",
      "  }\n",
      "  server {\n",
      "    listen 8080 deferred;\n",
      "    client_max_body_size 0;\n",
      "    keepalive_timeout 3;\n",
      "    location ~ ^/(ping|invocations|execution-parameters) {\n",
      "      proxy_set_header X-Forwarded-For $proxy_add_x_forwarded_for;\n",
      "      proxy_set_header Host $http_host;\n",
      "      proxy_redirect off;\n",
      "      proxy_read_timeout 60s;\n",
      "      proxy_pass http://gunicorn;\n",
      "    }\n",
      "    location / {\n",
      "      return 404 \"{}\";\n",
      "    }\n",
      "  }\u001b[0m\n",
      "\u001b[34m}\u001b[0m\n",
      "\u001b[34m[2024-11-04 08:28:26 +0000] [27] [INFO] Starting gunicorn 19.10.0\u001b[0m\n",
      "\u001b[34m[2024-11-04 08:28:26 +0000] [27] [INFO] Listening at: unix:/tmp/gunicorn.sock (27)\u001b[0m\n",
      "\u001b[34m[2024-11-04 08:28:26 +0000] [27] [INFO] Using worker: gevent\u001b[0m\n",
      "\u001b[34m[2024-11-04 08:28:26 +0000] [38] [INFO] Booting worker with pid: 38\u001b[0m\n",
      "\u001b[34m[2024-11-04 08:28:26 +0000] [39] [INFO] Booting worker with pid: 39\u001b[0m\n",
      "\u001b[34m[2024-11-04 08:28:26 +0000] [40] [INFO] Booting worker with pid: 40\u001b[0m\n",
      "\u001b[34m[2024-11-04 08:28:26 +0000] [55] [INFO] Booting worker with pid: 55\u001b[0m\n",
      "\u001b[34m[2024-11-04 08:28:27 +0000] [63] [INFO] Booting worker with pid: 63\u001b[0m\n",
      "\u001b[34m[2024-11-04 08:28:27 +0000] [64] [INFO] Booting worker with pid: 64\u001b[0m\n",
      "\u001b[34m[2024-11-04 08:28:27 +0000] [65] [INFO] Booting worker with pid: 65\u001b[0m\n",
      "\u001b[34m[2024-11-04 08:28:27 +0000] [73] [INFO] Booting worker with pid: 73\u001b[0m\n",
      "\u001b[34m[2024-11-04:08:28:30:INFO] No GPUs detected (normal if no gpus installed)\u001b[0m\n",
      "\u001b[34m169.254.255.130 - - [04/Nov/2024:08:28:30 +0000] \"GET /ping HTTP/1.1\" 200 0 \"-\" \"Go-http-client/1.1\"\u001b[0m\n",
      "\u001b[34m169.254.255.130 - - [04/Nov/2024:08:28:30 +0000] \"GET /execution-parameters HTTP/1.1\" 200 84 \"-\" \"Go-http-client/1.1\"\u001b[0m\n",
      "\u001b[34m[2024-11-04:08:28:31:INFO] No GPUs detected (normal if no gpus installed)\u001b[0m\n",
      "\u001b[34m[2024-11-04:08:28:31:INFO] Determined delimiter of CSV input is ','\u001b[0m\n",
      "\u001b[34m[2024-11-04:08:28:31:INFO] Determined delimiter of CSV input is ','\u001b[0m\n",
      "\u001b[34m[2024-11-04:08:28:31:INFO] No GPUs detected (normal if no gpus installed)\u001b[0m\n",
      "\u001b[34m[2024-11-04:08:28:31:INFO] No GPUs detected (normal if no gpus installed)\u001b[0m\n",
      "\u001b[34m[2024-11-04:08:28:31:INFO] No GPUs detected (normal if no gpus installed)\u001b[0m\n",
      "\u001b[34m[2024-11-04:08:28:31:INFO] No GPUs detected (normal if no gpus installed)\u001b[0m\n",
      "\u001b[34m[2024-11-04:08:28:31:INFO] Determined delimiter of CSV input is ','\u001b[0m\n",
      "\u001b[34m[2024-11-04:08:28:31:INFO] Determined delimiter of CSV input is ','\u001b[0m\n",
      "\u001b[34m[2024-11-04:08:28:31:INFO] Determined delimiter of CSV input is ','\u001b[0m\n",
      "\u001b[34m[2024-11-04:08:28:31:INFO] Determined delimiter of CSV input is ','\u001b[0m\n",
      "\u001b[32m2024-11-04T08:28:30.950:[sagemaker logs]: MaxConcurrentTransforms=8, MaxPayloadInMB=6, BatchStrategy=MULTI_RECORD\u001b[0m\n",
      "\u001b[34m169.254.255.130 - - [04/Nov/2024:08:28:33 +0000] \"POST /invocations HTTP/1.1\" 200 810410 \"-\" \"Go-http-client/1.1\"\u001b[0m\n",
      "\u001b[34m169.254.255.130 - - [04/Nov/2024:08:28:33 +0000] \"POST /invocations HTTP/1.1\" 200 763589 \"-\" \"Go-http-client/1.1\"\u001b[0m\n",
      "\u001b[34m169.254.255.130 - - [04/Nov/2024:08:28:33 +0000] \"POST /invocations HTTP/1.1\" 200 810585 \"-\" \"Go-http-client/1.1\"\u001b[0m\n",
      "\u001b[35m169.254.255.130 - - [04/Nov/2024:08:28:33 +0000] \"POST /invocations HTTP/1.1\" 200 810410 \"-\" \"Go-http-client/1.1\"\u001b[0m\n",
      "\u001b[35m169.254.255.130 - - [04/Nov/2024:08:28:33 +0000] \"POST /invocations HTTP/1.1\" 200 763589 \"-\" \"Go-http-client/1.1\"\u001b[0m\n",
      "\u001b[35m169.254.255.130 - - [04/Nov/2024:08:28:33 +0000] \"POST /invocations HTTP/1.1\" 200 810585 \"-\" \"Go-http-client/1.1\"\u001b[0m\n",
      "\u001b[34m169.254.255.130 - - [04/Nov/2024:08:28:33 +0000] \"POST /invocations HTTP/1.1\" 200 810334 \"-\" \"Go-http-client/1.1\"\u001b[0m\n",
      "\u001b[34m169.254.255.130 - - [04/Nov/2024:08:28:34 +0000] \"POST /invocations HTTP/1.1\" 200 810248 \"-\" \"Go-http-client/1.1\"\u001b[0m\n",
      "\u001b[34m169.254.255.130 - - [04/Nov/2024:08:28:34 +0000] \"POST /invocations HTTP/1.1\" 200 810277 \"-\" \"Go-http-client/1.1\"\u001b[0m\n",
      "\u001b[35m169.254.255.130 - - [04/Nov/2024:08:28:33 +0000] \"POST /invocations HTTP/1.1\" 200 810334 \"-\" \"Go-http-client/1.1\"\u001b[0m\n",
      "\u001b[35m169.254.255.130 - - [04/Nov/2024:08:28:34 +0000] \"POST /invocations HTTP/1.1\" 200 810248 \"-\" \"Go-http-client/1.1\"\u001b[0m\n",
      "\u001b[35m169.254.255.130 - - [04/Nov/2024:08:28:34 +0000] \"POST /invocations HTTP/1.1\" 200 810277 \"-\" \"Go-http-client/1.1\"\u001b[0m\n",
      "\u001b[34m[2024-11-04:08:28:26:INFO] No GPUs detected (normal if no gpus installed)\u001b[0m\n",
      "\u001b[34m[2024-11-04:08:28:26:INFO] No GPUs detected (normal if no gpus installed)\u001b[0m\n",
      "\u001b[34m[2024-11-04:08:28:26:INFO] nginx config: \u001b[0m\n",
      "\u001b[34mworker_processes auto;\u001b[0m\n",
      "\u001b[34mdaemon off;\u001b[0m\n",
      "\u001b[34mpid /tmp/nginx.pid;\u001b[0m\n",
      "\u001b[34merror_log  /dev/stderr;\u001b[0m\n",
      "\u001b[34mworker_rlimit_nofile 4096;\u001b[0m\n",
      "\u001b[34mevents {\n",
      "  worker_connections 2048;\u001b[0m\n",
      "\u001b[35m[2024-11-04:08:28:26:INFO] No GPUs detected (normal if no gpus installed)\u001b[0m\n",
      "\u001b[35m[2024-11-04:08:28:26:INFO] No GPUs detected (normal if no gpus installed)\u001b[0m\n",
      "\u001b[35m[2024-11-04:08:28:26:INFO] nginx config: \u001b[0m\n",
      "\u001b[35mworker_processes auto;\u001b[0m\n",
      "\u001b[35mdaemon off;\u001b[0m\n",
      "\u001b[35mpid /tmp/nginx.pid;\u001b[0m\n",
      "\u001b[35merror_log  /dev/stderr;\u001b[0m\n",
      "\u001b[35mworker_rlimit_nofile 4096;\u001b[0m\n",
      "\u001b[35mevents {\n",
      "  worker_connections 2048;\u001b[0m\n",
      "\u001b[34m}\u001b[0m\n",
      "\u001b[34mhttp {\n",
      "  include /etc/nginx/mime.types;\n",
      "  default_type application/octet-stream;\n",
      "  access_log /dev/stdout combined;\n",
      "  upstream gunicorn {\n",
      "    server unix:/tmp/gunicorn.sock;\n",
      "  }\n",
      "  server {\n",
      "    listen 8080 deferred;\n",
      "    client_max_body_size 0;\n",
      "    keepalive_timeout 3;\n",
      "    location ~ ^/(ping|invocations|execution-parameters) {\n",
      "      proxy_set_header X-Forwarded-For $proxy_add_x_forwarded_for;\n",
      "      proxy_set_header Host $http_host;\n",
      "      proxy_redirect off;\n",
      "      proxy_read_timeout 60s;\n",
      "      proxy_pass http://gunicorn;\n",
      "    }\n",
      "    location / {\n",
      "      return 404 \"{}\";\n",
      "    }\n",
      "  }\u001b[0m\n",
      "\u001b[34m}\u001b[0m\n",
      "\u001b[34m[2024-11-04 08:28:26 +0000] [27] [INFO] Starting gunicorn 19.10.0\u001b[0m\n",
      "\u001b[34m[2024-11-04 08:28:26 +0000] [27] [INFO] Listening at: unix:/tmp/gunicorn.sock (27)\u001b[0m\n",
      "\u001b[34m[2024-11-04 08:28:26 +0000] [27] [INFO] Using worker: gevent\u001b[0m\n",
      "\u001b[34m[2024-11-04 08:28:26 +0000] [38] [INFO] Booting worker with pid: 38\u001b[0m\n",
      "\u001b[34m[2024-11-04 08:28:26 +0000] [39] [INFO] Booting worker with pid: 39\u001b[0m\n",
      "\u001b[34m[2024-11-04 08:28:26 +0000] [40] [INFO] Booting worker with pid: 40\u001b[0m\n",
      "\u001b[34m[2024-11-04 08:28:26 +0000] [55] [INFO] Booting worker with pid: 55\u001b[0m\n",
      "\u001b[34m[2024-11-04 08:28:27 +0000] [63] [INFO] Booting worker with pid: 63\u001b[0m\n",
      "\u001b[34m[2024-11-04 08:28:27 +0000] [64] [INFO] Booting worker with pid: 64\u001b[0m\n",
      "\u001b[34m[2024-11-04 08:28:27 +0000] [65] [INFO] Booting worker with pid: 65\u001b[0m\n",
      "\u001b[34m[2024-11-04 08:28:27 +0000] [73] [INFO] Booting worker with pid: 73\u001b[0m\n",
      "\u001b[35m}\u001b[0m\n",
      "\u001b[35mhttp {\n",
      "  include /etc/nginx/mime.types;\n",
      "  default_type application/octet-stream;\n",
      "  access_log /dev/stdout combined;\n",
      "  upstream gunicorn {\n",
      "    server unix:/tmp/gunicorn.sock;\n",
      "  }\n",
      "  server {\n",
      "    listen 8080 deferred;\n",
      "    client_max_body_size 0;\n",
      "    keepalive_timeout 3;\n",
      "    location ~ ^/(ping|invocations|execution-parameters) {\n",
      "      proxy_set_header X-Forwarded-For $proxy_add_x_forwarded_for;\n",
      "      proxy_set_header Host $http_host;\n",
      "      proxy_redirect off;\n",
      "      proxy_read_timeout 60s;\n",
      "      proxy_pass http://gunicorn;\n",
      "    }\n",
      "    location / {\n",
      "      return 404 \"{}\";\n",
      "    }\n",
      "  }\u001b[0m\n",
      "\u001b[35m}\u001b[0m\n",
      "\u001b[35m[2024-11-04 08:28:26 +0000] [27] [INFO] Starting gunicorn 19.10.0\u001b[0m\n",
      "\u001b[35m[2024-11-04 08:28:26 +0000] [27] [INFO] Listening at: unix:/tmp/gunicorn.sock (27)\u001b[0m\n",
      "\u001b[35m[2024-11-04 08:28:26 +0000] [27] [INFO] Using worker: gevent\u001b[0m\n",
      "\u001b[35m[2024-11-04 08:28:26 +0000] [38] [INFO] Booting worker with pid: 38\u001b[0m\n",
      "\u001b[35m[2024-11-04 08:28:26 +0000] [39] [INFO] Booting worker with pid: 39\u001b[0m\n",
      "\u001b[35m[2024-11-04 08:28:26 +0000] [40] [INFO] Booting worker with pid: 40\u001b[0m\n",
      "\u001b[35m[2024-11-04 08:28:26 +0000] [55] [INFO] Booting worker with pid: 55\u001b[0m\n",
      "\u001b[35m[2024-11-04 08:28:27 +0000] [63] [INFO] Booting worker with pid: 63\u001b[0m\n",
      "\u001b[35m[2024-11-04 08:28:27 +0000] [64] [INFO] Booting worker with pid: 64\u001b[0m\n",
      "\u001b[35m[2024-11-04 08:28:27 +0000] [65] [INFO] Booting worker with pid: 65\u001b[0m\n",
      "\u001b[35m[2024-11-04 08:28:27 +0000] [73] [INFO] Booting worker with pid: 73\u001b[0m\n",
      "\u001b[34m[2024-11-04:08:28:30:INFO] No GPUs detected (normal if no gpus installed)\u001b[0m\n",
      "\u001b[34m169.254.255.130 - - [04/Nov/2024:08:28:30 +0000] \"GET /ping HTTP/1.1\" 200 0 \"-\" \"Go-http-client/1.1\"\u001b[0m\n",
      "\u001b[34m169.254.255.130 - - [04/Nov/2024:08:28:30 +0000] \"GET /execution-parameters HTTP/1.1\" 200 84 \"-\" \"Go-http-client/1.1\"\u001b[0m\n",
      "\u001b[35m[2024-11-04:08:28:30:INFO] No GPUs detected (normal if no gpus installed)\u001b[0m\n",
      "\u001b[35m169.254.255.130 - - [04/Nov/2024:08:28:30 +0000] \"GET /ping HTTP/1.1\" 200 0 \"-\" \"Go-http-client/1.1\"\u001b[0m\n",
      "\u001b[35m169.254.255.130 - - [04/Nov/2024:08:28:30 +0000] \"GET /execution-parameters HTTP/1.1\" 200 84 \"-\" \"Go-http-client/1.1\"\u001b[0m\n",
      "\u001b[34m[2024-11-04:08:28:31:INFO] No GPUs detected (normal if no gpus installed)\u001b[0m\n",
      "\u001b[34m[2024-11-04:08:28:31:INFO] Determined delimiter of CSV input is ','\u001b[0m\n",
      "\u001b[34m[2024-11-04:08:28:31:INFO] Determined delimiter of CSV input is ','\u001b[0m\n",
      "\u001b[34m[2024-11-04:08:28:31:INFO] No GPUs detected (normal if no gpus installed)\u001b[0m\n",
      "\u001b[34m[2024-11-04:08:28:31:INFO] No GPUs detected (normal if no gpus installed)\u001b[0m\n",
      "\u001b[35m[2024-11-04:08:28:31:INFO] No GPUs detected (normal if no gpus installed)\u001b[0m\n",
      "\u001b[35m[2024-11-04:08:28:31:INFO] Determined delimiter of CSV input is ','\u001b[0m\n",
      "\u001b[35m[2024-11-04:08:28:31:INFO] Determined delimiter of CSV input is ','\u001b[0m\n",
      "\u001b[35m[2024-11-04:08:28:31:INFO] No GPUs detected (normal if no gpus installed)\u001b[0m\n",
      "\u001b[35m[2024-11-04:08:28:31:INFO] No GPUs detected (normal if no gpus installed)\u001b[0m\n",
      "\u001b[34m[2024-11-04:08:28:31:INFO] No GPUs detected (normal if no gpus installed)\u001b[0m\n",
      "\u001b[34m[2024-11-04:08:28:31:INFO] No GPUs detected (normal if no gpus installed)\u001b[0m\n",
      "\u001b[34m[2024-11-04:08:28:31:INFO] Determined delimiter of CSV input is ','\u001b[0m\n",
      "\u001b[34m[2024-11-04:08:28:31:INFO] Determined delimiter of CSV input is ','\u001b[0m\n",
      "\u001b[34m[2024-11-04:08:28:31:INFO] Determined delimiter of CSV input is ','\u001b[0m\n",
      "\u001b[34m[2024-11-04:08:28:31:INFO] Determined delimiter of CSV input is ','\u001b[0m\n",
      "\u001b[35m[2024-11-04:08:28:31:INFO] No GPUs detected (normal if no gpus installed)\u001b[0m\n",
      "\u001b[35m[2024-11-04:08:28:31:INFO] No GPUs detected (normal if no gpus installed)\u001b[0m\n",
      "\u001b[35m[2024-11-04:08:28:31:INFO] Determined delimiter of CSV input is ','\u001b[0m\n",
      "\u001b[35m[2024-11-04:08:28:31:INFO] Determined delimiter of CSV input is ','\u001b[0m\n",
      "\u001b[35m[2024-11-04:08:28:31:INFO] Determined delimiter of CSV input is ','\u001b[0m\n",
      "\u001b[35m[2024-11-04:08:28:31:INFO] Determined delimiter of CSV input is ','\u001b[0m\n",
      "\u001b[32m2024-11-04T08:28:30.950:[sagemaker logs]: MaxConcurrentTransforms=8, MaxPayloadInMB=6, BatchStrategy=MULTI_RECORD\u001b[0m\n",
      "\u001b[34m169.254.255.130 - - [04/Nov/2024:08:28:33 +0000] \"POST /invocations HTTP/1.1\" 200 810410 \"-\" \"Go-http-client/1.1\"\u001b[0m\n",
      "\u001b[34m169.254.255.130 - - [04/Nov/2024:08:28:33 +0000] \"POST /invocations HTTP/1.1\" 200 763589 \"-\" \"Go-http-client/1.1\"\u001b[0m\n",
      "\u001b[34m169.254.255.130 - - [04/Nov/2024:08:28:33 +0000] \"POST /invocations HTTP/1.1\" 200 810585 \"-\" \"Go-http-client/1.1\"\u001b[0m\n",
      "\u001b[35m169.254.255.130 - - [04/Nov/2024:08:28:33 +0000] \"POST /invocations HTTP/1.1\" 200 810410 \"-\" \"Go-http-client/1.1\"\u001b[0m\n",
      "\u001b[35m169.254.255.130 - - [04/Nov/2024:08:28:33 +0000] \"POST /invocations HTTP/1.1\" 200 763589 \"-\" \"Go-http-client/1.1\"\u001b[0m\n",
      "\u001b[35m169.254.255.130 - - [04/Nov/2024:08:28:33 +0000] \"POST /invocations HTTP/1.1\" 200 810585 \"-\" \"Go-http-client/1.1\"\u001b[0m\n",
      "\u001b[34m169.254.255.130 - - [04/Nov/2024:08:28:33 +0000] \"POST /invocations HTTP/1.1\" 200 810334 \"-\" \"Go-http-client/1.1\"\u001b[0m\n",
      "\u001b[34m169.254.255.130 - - [04/Nov/2024:08:28:34 +0000] \"POST /invocations HTTP/1.1\" 200 810248 \"-\" \"Go-http-client/1.1\"\u001b[0m\n",
      "\u001b[34m169.254.255.130 - - [04/Nov/2024:08:28:34 +0000] \"POST /invocations HTTP/1.1\" 200 810277 \"-\" \"Go-http-client/1.1\"\u001b[0m\n",
      "\u001b[35m169.254.255.130 - - [04/Nov/2024:08:28:33 +0000] \"POST /invocations HTTP/1.1\" 200 810334 \"-\" \"Go-http-client/1.1\"\u001b[0m\n",
      "\u001b[35m169.254.255.130 - - [04/Nov/2024:08:28:34 +0000] \"POST /invocations HTTP/1.1\" 200 810248 \"-\" \"Go-http-client/1.1\"\u001b[0m\n",
      "\u001b[35m169.254.255.130 - - [04/Nov/2024:08:28:34 +0000] \"POST /invocations HTTP/1.1\" 200 810277 \"-\" \"Go-http-client/1.1\"\u001b[0m\n"
     ]
    }
   ],
   "source": [
    "#starting the batch transform job with input data and waiting for it to complete\n",
    "\n",
    "xgboost_transformer.transform(\n",
    "    data=batch_input, data_type=\"S3Prefix\", content_type=\"text/csv\", split_type=\"Line\"\n",
    ")\n",
    "\n",
    "xgboost_transformer.wait()\n"
   ]
  },
  {
   "cell_type": "markdown",
   "metadata": {},
   "source": [
    "### Retrieving"
   ]
  },
  {
   "cell_type": "code",
   "execution_count": 41,
   "metadata": {
    "tags": []
   },
   "outputs": [],
   "source": [
    "#initializing the s3 client, retrieving the batch output file from s3, and reading it into a dataframe\n",
    "\n",
    "s3 = boto3.client(\"s3\")\n",
    "obj = s3.get_object(\n",
    "    Bucket=bucket_dsts, Key=\"{}/batch-out/{}\".format(prefix, \"batch-for-ensemble.csv.out\")\n",
    ")\n",
    "\n",
    "target_predicted = pd.read_csv(io.BytesIO(obj[\"Body\"].read()), names=[\"class\"])\n"
   ]
  },
  {
   "cell_type": "code",
   "execution_count": 42,
   "metadata": {
    "tags": []
   },
   "outputs": [],
   "source": [
    "#function to convert predicted values to binary based on a threshold of 0.3\n",
    "#if the value is greater than 0.3, it is classified as 1 (positive class)\n",
    "#otherwise, it is classified as 0 (negative class)\n",
    "def convert_to_binary(x):\n",
    "    threshold = 0.3\n",
    "    if x > threshold:\n",
    "        return 1\n",
    "    else:\n",
    "        return 0\n",
    "\n",
    "#applying the binary conversion to the \"class\" column of the predictions\n",
    "#this step transforms continuous or probability predictions into binary values (0 or 1)\n",
    "target_predicted_binary = target_predicted[\"class\"].apply(convert_to_binary)\n",
    "\n"
   ]
  },
  {
   "cell_type": "code",
   "execution_count": 43,
   "metadata": {
    "tags": []
   },
   "outputs": [
    {
     "name": "stdout",
     "output_type": "stream",
     "text": [
      "0    0\n",
      "1    0\n",
      "2    0\n",
      "3    0\n",
      "4    0\n",
      "Name: class, dtype: int64\n"
     ]
    }
   ],
   "source": [
    "print(target_predicted_binary.head())"
   ]
  },
  {
   "cell_type": "code",
   "execution_count": 44,
   "metadata": {
    "tags": []
   },
   "outputs": [
    {
     "data": {
      "text/plain": [
       "470151     0.0\n",
       "985696     0.0\n",
       "394886     0.0\n",
       "924542     0.0\n",
       "1533313    0.0\n",
       "Name: target, dtype: float64"
      ]
     },
     "execution_count": 44,
     "metadata": {},
     "output_type": "execute_result"
    }
   ],
   "source": [
    "#extracting the test labels\n",
    "test_labels_actual = test.iloc[:, 0]\n",
    "\n",
    "test_labels_actual.head(5)"
   ]
  },
  {
   "cell_type": "markdown",
   "metadata": {},
   "source": [
    "## Results"
   ]
  },
  {
   "cell_type": "markdown",
   "metadata": {},
   "source": [
    "### Confusin Matrix"
   ]
  },
  {
   "cell_type": "code",
   "execution_count": 45,
   "metadata": {
    "tags": []
   },
   "outputs": [
    {
     "data": {
      "image/png": "[encoded data removed]",
      "text/plain": [
       "<Figure size 640x480 with 2 Axes>"
      ]
     },
     "metadata": {},
     "output_type": "display_data"
    },
    {
     "data": {
      "image/png": "[encoded data removed]",
      "text/plain": [
       "<Figure size 640x480 with 2 Axes>"
      ]
     },
     "metadata": {},
     "output_type": "display_data"
    }
   ],
   "source": [
    "#plotting the confusion matrix\n",
    "ConfusionMatrixDisplay.from_predictions(test_labels_actual, target_predicted_binary, cmap='viridis').plot()\n",
    "plt.show()"
   ]
  },
  {
   "cell_type": "markdown",
   "metadata": {},
   "source": [
    "### Classification Report"
   ]
  },
  {
   "cell_type": "code",
   "execution_count": 46,
   "metadata": {
    "tags": []
   },
   "outputs": [
    {
     "name": "stdout",
     "output_type": "stream",
     "text": [
      "Classification Report on Test Data\n",
      "              precision    recall  f1-score   support\n",
      "\n",
      "         0.0       0.83      0.88      0.85    193838\n",
      "         1.0       0.40      0.30      0.34     51500\n",
      "\n",
      "    accuracy                           0.76    245338\n",
      "   macro avg       0.61      0.59      0.60    245338\n",
      "weighted avg       0.74      0.76      0.75    245338\n",
      "\n"
     ]
    }
   ],
   "source": [
    "#classification report\n",
    "print(\"Classification Report on Test Data\")\n",
    "print(classification_report(test_labels_actual, target_predicted_binary))"
   ]
  }
 ],
 "metadata": {
  "kernelspec": {
   "display_name": "conda_python3",
   "language": "python",
   "name": "conda_python3"
  },
  "language_info": {
   "codemirror_mode": {
    "name": "ipython",
    "version": 3
   },
   "file_extension": ".py",
   "mimetype": "text/x-python",
   "name": "python",
   "nbconvert_exporter": "python",
   "pygments_lexer": "ipython3",
   "version": "3.10.15"
  }
 },
 "nbformat": 4,
 "nbformat_minor": 4
}
